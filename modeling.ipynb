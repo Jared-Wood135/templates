{
 "cells": [
  {
   "cell_type": "markdown",
   "id": "9bf0e1de",
   "metadata": {},
   "source": [
    "<div style='background-color:lightblue'>\n",
    "<a id='TableOfContents'></a>\n",
    "    <b><u><i><h1 style='text-align:center ; padding-top:5px'>\n",
    "        Table of Contents\n",
    "    </h1></i></u></b>\n",
    "    <li><a href='#imports'>Imports</a>\n",
    "    <li><a href='#model1'>Model Type 1</a>\n",
    "    <li><a href='#model2'>Model Type 2</a>\n",
    "    <li><a href='#model3'>Model Type 3</a>\n",
    "    <li><a href='#model4'>Model Type 4</a>\n",
    "    <li><a href='#bestmodel'>Best Performing Model</a>\n",
    "    <li><a href='#misc'>Miscellaneous</a>\n",
    "    </li>\n",
    "</div>"
   ]
  },
  {
   "cell_type": "markdown",
   "id": "01a54865",
   "metadata": {},
   "source": [
    "<h3 style='text-align:center'><b><i>\n",
    "    ORIENTATION\n",
    "</i></b></h3>\n",
    "\n",
    "This is a generic template to expedite organization and ease of use/reading for the purposes of modeling and machine learning..."
   ]
  },
  {
   "cell_type": "markdown",
   "id": "6635d36b",
   "metadata": {},
   "source": [
    "<div style='background-color:lightblue'>\n",
    "<a id='imports'></a>\n",
    "    <b><u><i><h1 style='text-align:center ; padding-top:5px'>\n",
    "        Imports\n",
    "    </h1></i></u></b>\n",
    "    <li><a href='#TableOfContents'>Table of Contents Top</a>\n",
    "    </li>\n",
    "</div>"
   ]
  },
  {
   "cell_type": "code",
   "execution_count": 2,
   "id": "b4f15f56",
   "metadata": {},
   "outputs": [],
   "source": [
    "# Vectorization & Dataframe\n",
    "import numpy as np\n",
    "import pandas as pd\n",
    "\n",
    "# Classification Models\n",
    "from sklearn.tree import DecisionTreeClassifier as DTC\n",
    "from sklearn.ensemble import RandomForestClassifier as RFC\n",
    "from sklearn.neighbors import KNeighborsClassifier as KNN\n",
    "from sklearn.linear_model import LogisticRegression as LogR\n",
    "\n",
    "# Classification Metrics\n",
    "from sklearn.metrics import accuracy_score, classification_report, recall_score\n",
    "\n",
    "# Regression Models\n",
    "from sklearn.linear_model import LassoLars as LL\n",
    "from sklearn.linear_model import TweedieRegressor as TR\n",
    "from sklearn.linear_model import LinearRegression as LinR\n",
    "\n",
    "# Regression Metrics\n",
    "from sklearn.metrics import explained_variance_score, mean_squared_error\n",
    "\n",
    "# Clustering Models\n",
    "from sklearn.cluster import KMeans\n",
    "\n",
    "# Anomaly Detection\n",
    "from sklearn.cluster import DBSCAN\n",
    "\n",
    "# Scaling\n",
    "from sklearn.preprocessing import MinMaxScaler, StandardScaler, RobustScaler, QuantileTransformer\n",
    "\n",
    "# Itertools\n",
    "import itertools\n",
    "\n",
    "# .py files\n",
    "import wrangle as w"
   ]
  },
  {
   "cell_type": "markdown",
   "id": "b517a47a",
   "metadata": {},
   "source": [
    "<div style='background-color:lightblue'>\n",
    "<a id='model1'></a>\n",
    "    <b><u><i><h1 style='text-align:center ; padding-top:5px'>\n",
    "        Model Type 1\n",
    "    </h1></i></u></b>\n",
    "    <li><a href='#TableOfContents'>Table of Contents Top</a>\n",
    "    </li>\n",
    "</div>"
   ]
  },
  {
   "cell_type": "code",
   "execution_count": null,
   "id": "ba475900",
   "metadata": {},
   "outputs": [],
   "source": []
  },
  {
   "cell_type": "markdown",
   "id": "bba23c3c",
   "metadata": {},
   "source": [
    "<div style='background-color:lightblue'>\n",
    "<a id='model2'></a>\n",
    "    <b><u><i><h1 style='text-align:center ; padding-top:5px'>\n",
    "        Model Type 2\n",
    "    </h1></i></u></b>\n",
    "    <li><a href='#TableOfContents'>Table of Contents Top</a>\n",
    "    </li>\n",
    "</div>"
   ]
  },
  {
   "cell_type": "code",
   "execution_count": null,
   "id": "551a2681",
   "metadata": {},
   "outputs": [],
   "source": []
  },
  {
   "cell_type": "markdown",
   "id": "2ddafd73",
   "metadata": {},
   "source": [
    "<div style='background-color:lightblue'>\n",
    "<a id='model3'></a>\n",
    "    <b><u><i><h1 style='text-align:center ; padding-top:5px'>\n",
    "        Model Type 3\n",
    "    </h1></i></u></b>\n",
    "    <li><a href='#TableOfContents'>Table of Contents Top</a>\n",
    "    </li>\n",
    "</div>"
   ]
  },
  {
   "cell_type": "code",
   "execution_count": null,
   "id": "f15799ef",
   "metadata": {},
   "outputs": [],
   "source": []
  },
  {
   "cell_type": "markdown",
   "id": "4c148f5e",
   "metadata": {},
   "source": [
    "<div style='background-color:lightblue'>\n",
    "<a id='model4'></a>\n",
    "    <b><u><i><h1 style='text-align:center ; padding-top:5px'>\n",
    "        Model Type 4\n",
    "    </h1></i></u></b>\n",
    "    <li><a href='#TableOfContents'>Table of Contents Top</a>\n",
    "    </li>\n",
    "</div>"
   ]
  },
  {
   "cell_type": "code",
   "execution_count": null,
   "id": "666ac826",
   "metadata": {},
   "outputs": [],
   "source": []
  },
  {
   "cell_type": "markdown",
   "id": "f4065621",
   "metadata": {},
   "source": [
    "<div style='background-color:lightblue'>\n",
    "<a id='bestmodel'></a>\n",
    "    <b><u><i><h1 style='text-align:center ; padding-top:5px'>\n",
    "        Best Performing Model\n",
    "    </h1></i></u></b>\n",
    "    <li><a href='#TableOfContents'>Table of Contents Top</a>\n",
    "    </li>\n",
    "</div>"
   ]
  },
  {
   "cell_type": "code",
   "execution_count": null,
   "id": "263db668",
   "metadata": {},
   "outputs": [],
   "source": []
  },
  {
   "cell_type": "markdown",
   "id": "4ef21d1b",
   "metadata": {},
   "source": [
    "<div style='background-color:lightblue'>\n",
    "<a id='misc'></a>\n",
    "    <b><u><i><h1 style='text-align:center ; padding-top:5px'>\n",
    "        Miscellaneous\n",
    "    </h1></i></u></b>\n",
    "    <li><a href='#TableOfContents'>Table of Contents Top</a>\n",
    "    </li>\n",
    "</div>"
   ]
  },
  {
   "cell_type": "code",
   "execution_count": null,
   "id": "88563631",
   "metadata": {},
   "outputs": [],
   "source": []
  }
 ],
 "metadata": {
  "kernelspec": {
   "display_name": "Python 3 (ipykernel)",
   "language": "python",
   "name": "python3"
  },
  "language_info": {
   "codemirror_mode": {
    "name": "ipython",
    "version": 3
   },
   "file_extension": ".py",
   "mimetype": "text/x-python",
   "name": "python",
   "nbconvert_exporter": "python",
   "pygments_lexer": "ipython3",
   "version": "3.9.13"
  }
 },
 "nbformat": 4,
 "nbformat_minor": 5
}
