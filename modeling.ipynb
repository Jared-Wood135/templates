{
 "cells": [
  {
   "cell_type": "markdown",
   "id": "9bf0e1de",
   "metadata": {},
   "source": [
    "<div style='background-color:lightblue'>\n",
    "<a id='TableOfContents'></a>\n",
    "    <b><u><i><h1 style='text-align:center ; padding-top:5px'>\n",
    "        Table of Contents\n",
    "    </h1></i></u></b>\n",
    "    <li><a href='#imports'>Imports</a>\n",
    "    <li><a href='#initial'>Initial Setup</a>\n",
    "    <li><a href='#model1'>Model Type 1</a>\n",
    "    <li><a href='#model2'>Model Type 2</a>\n",
    "    <li><a href='#model3'>Model Type 3</a>\n",
    "    <li><a href='#model4'>Model Type 4</a>\n",
    "    <li><a href='#bestmodel'>Best Performing Model</a>\n",
    "    <li><a href='#misc'>Miscellaneous</a>\n",
    "    </li>\n",
    "</div>"
   ]
  },
  {
   "cell_type": "markdown",
   "id": "7f304e4c",
   "metadata": {},
   "source": [
    "<h3 style='text-align:center'><b><u><i>\n",
    "    ORIENTATION\n",
    "</i></b></h3>\n",
    "\n",
    "This is a generic template to expedite organization and ease of use/reading for the purposes of modeling and machine learning..."
   ]
  },
  {
   "cell_type": "markdown",
   "id": "6635d36b",
   "metadata": {},
   "source": [
    "<div style='background-color:lightblue'>\n",
    "<a id='imports'></a>\n",
    "    <b><u><i><h1 style='text-align:center ; padding-top:5px'>\n",
    "        Imports\n",
    "    </h1></i></u></b>\n",
    "    <li><a href='#TableOfContents'>Table of Contents Top</a>\n",
    "    </li>\n",
    "</div>"
   ]
  },
  {
   "cell_type": "code",
   "execution_count": 2,
   "id": "b4f15f56",
   "metadata": {},
   "outputs": [],
   "source": [
    "# Vectorization & Dataframe\n",
    "import numpy as np\n",
    "import pandas as pd\n",
    "\n",
    "# Classification Models\n",
    "from sklearn.tree import DecisionTreeClassifier as DTC\n",
    "from sklearn.ensemble import RandomForestClassifier as RFC\n",
    "from sklearn.neighbors import KNeighborsClassifier as KNN\n",
    "from sklearn.linear_model import LogisticRegression as LogR\n",
    "\n",
    "# Classification Metrics\n",
    "from sklearn.metrics import accuracy_score, classification_report, recall_score\n",
    "\n",
    "# Regression Models\n",
    "from sklearn.linear_model import LassoLars as LL\n",
    "from sklearn.linear_model import TweedieRegressor as TR\n",
    "from sklearn.linear_model import LinearRegression as LinR\n",
    "\n",
    "# Regression Metrics\n",
    "from sklearn.metrics import explained_variance_score, mean_squared_error\n",
    "\n",
    "# Clustering Models\n",
    "from sklearn.cluster import KMeans\n",
    "\n",
    "# Anomaly Detection\n",
    "from sklearn.cluster import DBSCAN\n",
    "\n",
    "# Scaling\n",
    "from sklearn.preprocessing import MinMaxScaler, StandardScaler, RobustScaler, QuantileTransformer\n",
    "\n",
    "# Itertools\n",
    "import itertools\n",
    "\n",
    "# .py files\n",
    "import wrangle as w"
   ]
  },
  {
   "cell_type": "markdown",
   "id": "49b794c5",
   "metadata": {},
   "source": [
    "<div style='background-color:lightblue'>\n",
    "<a id='initial'></a>\n",
    "    <b><u><i><h1 style='text-align:center ; padding-top:5px'>\n",
    "        Initial Setup\n",
    "    </h1></i></u></b>\n",
    "    <li><a href='#TableOfContents'>Table of Contents Top</a>\n",
    "    <li><a href='#initialdata'>Load Initial Dataset</a>\n",
    "    <li><a href='#initialsplit'>Split Dataset</a>\n",
    "    <li><a href='#initialdefine'>Define Training and Target Columns</a>\n",
    "    <li><a href='#initialsummary'>Summary</a>\n",
    "    </li>\n",
    "</div>"
   ]
  },
  {
   "cell_type": "markdown",
   "id": "1b72cbc1",
   "metadata": {},
   "source": [
    "<h3 style='text-align:center'><b><u><i>\n",
    "    ORIENTATION\n",
    "</i></u></b></h3>\n",
    "\n",
    "Initially load and prepare the [DATASET NAME] dataset for use in machine learning."
   ]
  },
  {
   "cell_type": "markdown",
   "id": "c8b3f521",
   "metadata": {},
   "source": [
    "<div style='border-bottom:5px solid #000000'></div>"
   ]
  },
  {
   "cell_type": "markdown",
   "id": "6afdf328",
   "metadata": {},
   "source": [
    "<a id='initialdata'></a>\n",
    "<h3 style='text-align:center'><b><i>\n",
    "    Load Initial Dataset\n",
    "</i></b></h3>\n",
    "<li><a href='#initial'>Initial Setup Top</a>"
   ]
  },
  {
   "cell_type": "code",
   "execution_count": 3,
   "id": "7b959cbc",
   "metadata": {},
   "outputs": [],
   "source": [
    "# Load the [DATASET NAME] dataset\n"
   ]
  },
  {
   "cell_type": "markdown",
   "id": "4184d51d",
   "metadata": {},
   "source": [
    "<div style='border-bottom:5px solid #000000'></div>"
   ]
  },
  {
   "cell_type": "markdown",
   "id": "386d96f2",
   "metadata": {},
   "source": [
    "<a id='initialsplit'></a>\n",
    "<h3 style='text-align:center'><b><i>\n",
    "    Split Dataset\n",
    "</i></b></h3>\n",
    "<li><a href='#initial'>Initial Setup Top</a>"
   ]
  },
  {
   "cell_type": "code",
   "execution_count": 4,
   "id": "bb0b8e95",
   "metadata": {},
   "outputs": [],
   "source": [
    "# Split [DATASET NAME] dataset into...\n",
    "# 1 training sets at ##% of total data\n",
    "# # validation sets at ##% of total data\n",
    "# 1 testing sets at ##% of total data\n"
   ]
  },
  {
   "cell_type": "markdown",
   "id": "3cb22709",
   "metadata": {},
   "source": [
    "<div style='border-bottom:5px solid #000000'></div>"
   ]
  },
  {
   "cell_type": "markdown",
   "id": "49f1399d",
   "metadata": {},
   "source": [
    "<a id='initialdefine'></a>\n",
    "<h3 style='text-align:center'><b><i>\n",
    "    Define Training and Target Columns\n",
    "</i></b></h3>\n",
    "<li><a href='#initial'>Intial Setup Top</a>"
   ]
  },
  {
   "cell_type": "code",
   "execution_count": null,
   "id": "92e824d6",
   "metadata": {},
   "outputs": [],
   "source": [
    "# Define Training Columns\n"
   ]
  },
  {
   "cell_type": "code",
   "execution_count": null,
   "id": "35e6a0d0",
   "metadata": {},
   "outputs": [],
   "source": [
    "# Define Target Column\n"
   ]
  },
  {
   "cell_type": "code",
   "execution_count": null,
   "id": "0f8d84fd",
   "metadata": {},
   "outputs": [],
   "source": [
    "# Create training subset of all datasets\n"
   ]
  },
  {
   "cell_type": "code",
   "execution_count": null,
   "id": "bfdad5c8",
   "metadata": {},
   "outputs": [],
   "source": [
    "# Create target subset of all datasets\n"
   ]
  },
  {
   "cell_type": "markdown",
   "id": "1985d6b6",
   "metadata": {},
   "source": [
    "<div style='border-bottom:5px solid #000000'></div>"
   ]
  },
  {
   "cell_type": "markdown",
   "id": "281ca3bf",
   "metadata": {},
   "source": [
    "<a id='initialsummary'></a>\n",
    "<h3 style='text-align:center'><b><i>\n",
    "    Summary\n",
    "</i></b></h3>\n",
    "<li><a href='#initial'>Initial Setup Top</a>"
   ]
  },
  {
   "cell_type": "markdown",
   "id": "29ff3a27",
   "metadata": {},
   "source": [
    "- DATASET\n",
    "    - [DATASET NAME]\n",
    "    - 00 Columns\n",
    "    - 00 Rows\n",
    "- SPLITING DATA\n",
    "    - 1 Train (00% of total data)\n",
    "    - 0 Validate (00% of total data)\n",
    "    - 1 Test (00% of total data)\n",
    "- TRAINING/TARGET COLUMNS\n",
    "    - 0 Training Columns ([0 OF TRAINING COLUMNS] / [0 OF TOTAL COLUMNS] possible columns)\n",
    "    - [TARGET COLUMN NAME]\n",
    "- CREATE SUBSETS OF ALL SPLIT DATASETS"
   ]
  },
  {
   "cell_type": "markdown",
   "id": "b517a47a",
   "metadata": {},
   "source": [
    "<div style='background-color:lightblue'>\n",
    "<a id='model1'></a>\n",
    "    <b><u><i><h1 style='text-align:center ; padding-top:5px'>\n",
    "        Model Type 1\n",
    "    </h1></i></u></b>\n",
    "    <li><a href='#TableOfContents'>Table of Contents Top</a>\n",
    "    <li><a href='#model1hypertuning'>Hyperparameter Tuning</a>\n",
    "    <li><a href='#model1models'>Models Created</a>\n",
    "    <li><a href='#model1summary'>Summary</a>\n",
    "    </li>\n",
    "</div>"
   ]
  },
  {
   "cell_type": "markdown",
   "id": "7de1391f",
   "metadata": {},
   "source": [
    "<h3 style='text-align:center'><b><u><i>\n",
    "    ORIENTATION\n",
    "</i></u></b></h3>\n",
    "\n",
    "Train and validate data using the <mark>[MACHINE LEARNING MODEL NAME]</mark>\n",
    "\n",
    "Model Metric is <mark>[METRIC NAME]</mark> because..."
   ]
  },
  {
   "cell_type": "markdown",
   "id": "33e760a2",
   "metadata": {},
   "source": [
    "<div style='border-bottom:5px solid #000000'></div>"
   ]
  },
  {
   "cell_type": "markdown",
   "id": "bfaa6953",
   "metadata": {},
   "source": [
    "<a id='model1hypertuning'></a>\n",
    "<h3 style='text-align:center'><b><i>\n",
    "    Hyperparameter Tuning\n",
    "</i></b></h3>\n",
    "<li><a href='#model1'>Model Type 1 Top</a>\n",
    "<li><a href='#model1hypertuningsummary'>Hyperparameter Tuning Summary</a>"
   ]
  },
  {
   "cell_type": "code",
   "execution_count": null,
   "id": "c0ec23a0",
   "metadata": {},
   "outputs": [],
   "source": [
    "# Using 'gridsearchcv', find the best hyperparameters\n"
   ]
  },
  {
   "cell_type": "markdown",
   "id": "cf32c59e",
   "metadata": {},
   "source": [
    "<a id='model1hypertuningsummary'></a>\n",
    "<h3><b><i>\n",
    "    Hyperparameter Tuning Summary\n",
    "</i></b></h3>\n",
    "<li><a href='#model1hypertuning'>Hyperparameter Tuning Top</a>\n",
    "    \n",
    "- BEST HYPERPARAMETERS\n",
    "    - [HYPERPARAMETER] = [VALUE]\n",
    "    - [HYPERPARAMETER] = [VALUE]\n",
    "    - [HYPERPARAMETER] = [VALUE]"
   ]
  },
  {
   "cell_type": "markdown",
   "id": "75d3720d",
   "metadata": {},
   "source": [
    "<div style='border-bottom:5px solid #000000'></div>"
   ]
  },
  {
   "cell_type": "markdown",
   "id": "f7cea46e",
   "metadata": {},
   "source": [
    "<a id='model1models'></a>\n",
    "<h3 style='text-align:center'><b><i>\n",
    "    Models Created\n",
    "</i></b></h3>\n",
    "<li><a href='#model1'>Model Type 1 Top</a>\n",
    "<li><a href='#model1modelssummary'>Models Created Summary</a>"
   ]
  },
  {
   "cell_type": "code",
   "execution_count": null,
   "id": "bd652a48",
   "metadata": {},
   "outputs": [],
   "source": [
    "# Demonstrate some of the models created\n"
   ]
  },
  {
   "cell_type": "code",
   "execution_count": null,
   "id": "90ad5b29",
   "metadata": {},
   "outputs": [],
   "source": [
    "# Append to models dataframme\n"
   ]
  },
  {
   "cell_type": "markdown",
   "id": "492cbd98",
   "metadata": {},
   "source": [
    "<a id='model1modelssummary'></a>\n",
    "<h3><b><i>\n",
    "    Models Created Summary\n",
    "</i></b></h3>\n",
    "<li><a href='#model1models'>Models Created Top</a>\n",
    "\n",
    "- 00 MODELS CREATED\n",
    "- BEST [MACHINE LEARNING MODEL NAME] MODEL\n",
    "    - [METRIC NAME] = [VALUE]"
   ]
  },
  {
   "cell_type": "markdown",
   "id": "ba3f4308",
   "metadata": {},
   "source": [
    "<div style='border-bottom:5px solid #000000'></div>"
   ]
  },
  {
   "cell_type": "markdown",
   "id": "f93eddc5",
   "metadata": {},
   "source": [
    "<a id='model1summary'></a>\n",
    "<h3 style='text-align:center'><b><i>\n",
    "    Summary\n",
    "</i></b></h3>\n",
    "<li><a href='#model1models'>Model Type 1 Top</a>\n",
    "    \n",
    "- BEST HYPERPARAMETERS\n",
    "    - [HYPERPARAMETER] = [VALUE]\n",
    "    - [HYPERPARAMETER] = [VALUE]\n",
    "    - [HYPERPARAMETER] = [VALUE]\n",
    "- 00 MODELS CREATED\n",
    "- BEST [MACHINE LEARNING MODEL NAME] MODEL\n",
    "    - [METRIC NAME] = [VALUE]"
   ]
  },
  {
   "cell_type": "markdown",
   "id": "2558db8e",
   "metadata": {},
   "source": [
    "<div style='background-color:lightblue'>\n",
    "<a id='model2'></a>\n",
    "    <b><u><i><h1 style='text-align:center ; padding-top:5px'>\n",
    "        Model Type 2\n",
    "    </h1></i></u></b>\n",
    "    <li><a href='#TableOfContents'>Table of Contents Top</a>\n",
    "    </li>\n",
    "</div>"
   ]
  },
  {
   "cell_type": "code",
   "execution_count": null,
   "id": "aa9fda0b",
   "metadata": {},
   "outputs": [],
   "source": []
  },
  {
   "cell_type": "markdown",
   "id": "a2e57bbe",
   "metadata": {},
   "source": [
    "<div style='background-color:lightblue'>\n",
    "<a id='model3'></a>\n",
    "    <b><u><i><h1 style='text-align:center ; padding-top:5px'>\n",
    "        Model Type 3\n",
    "    </h1></i></u></b>\n",
    "    <li><a href='#TableOfContents'>Table of Contents Top</a>\n",
    "    </li>\n",
    "</div>"
   ]
  },
  {
   "cell_type": "code",
   "execution_count": null,
   "id": "62eaf948",
   "metadata": {},
   "outputs": [],
   "source": []
  },
  {
   "cell_type": "markdown",
   "id": "b26ee0b0",
   "metadata": {},
   "source": [
    "<div style='background-color:lightblue'>\n",
    "<a id='model4'></a>\n",
    "    <b><u><i><h1 style='text-align:center ; padding-top:5px'>\n",
    "        Model Type 4\n",
    "    </h1></i></u></b>\n",
    "    <li><a href='#TableOfContents'>Table of Contents Top</a>\n",
    "    </li>\n",
    "</div>"
   ]
  },
  {
   "cell_type": "code",
   "execution_count": null,
   "id": "0dc48379",
   "metadata": {},
   "outputs": [],
   "source": []
  },
  {
   "cell_type": "markdown",
   "id": "7ee49c18",
   "metadata": {},
   "source": [
    "<div style='background-color:lightblue'>\n",
    "<a id='bestmodel'></a>\n",
    "    <b><u><i><h1 style='text-align:center ; padding-top:5px'>\n",
    "        Best Performing Model\n",
    "    </h1></i></u></b>\n",
    "    <li><a href='#TableOfContents'>Table of Contents Top</a>\n",
    "    </li>\n",
    "</div>"
   ]
  },
  {
   "cell_type": "code",
   "execution_count": null,
   "id": "ead8caaa",
   "metadata": {},
   "outputs": [],
   "source": []
  },
  {
   "cell_type": "markdown",
   "id": "4ef21d1b",
   "metadata": {},
   "source": [
    "<div style='background-color:lightblue'>\n",
    "<a id='misc'></a>\n",
    "    <b><u><i><h1 style='text-align:center ; padding-top:5px'>\n",
    "        Miscellaneous\n",
    "    </h1></i></u></b>\n",
    "    <li><a href='#TableOfContents'>Table of Contents Top</a>\n",
    "    </li>\n",
    "</div>"
   ]
  },
  {
   "cell_type": "code",
   "execution_count": null,
   "id": "88563631",
   "metadata": {},
   "outputs": [],
   "source": []
  }
 ],
 "metadata": {
  "kernelspec": {
   "display_name": "Python 3 (ipykernel)",
   "language": "python",
   "name": "python3"
  },
  "language_info": {
   "codemirror_mode": {
    "name": "ipython",
    "version": 3
   },
   "file_extension": ".py",
   "mimetype": "text/x-python",
   "name": "python",
   "nbconvert_exporter": "python",
   "pygments_lexer": "ipython3",
   "version": "3.9.13"
  }
 },
 "nbformat": 4,
 "nbformat_minor": 5
}
