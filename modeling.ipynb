{
 "cells": [
  {
   "cell_type": "markdown",
   "id": "9bf0e1de",
   "metadata": {},
   "source": [
    "<div style='background-color:lightblue'>\n",
    "<a id='TableOfContents'></a>\n",
    "    <b><u><i><h1 style='text-align:center ; padding-top:5px'>\n",
    "        Table of Contents\n",
    "    </h1></i></u></b>\n",
    "    <li><a href='#imports'>Imports</a>\n",
    "    <li><a href='#initial'>Initial Setup</a>\n",
    "    <li><a href='#model1'>Model Type 1</a>\n",
    "    <li><a href='#model2'>Model Type 2</a>\n",
    "    <li><a href='#model3'>Model Type 3</a>\n",
    "    <li><a href='#model4'>Model Type 4</a>\n",
    "    <li><a href='#bestmodel'>Best Performing Model</a>\n",
    "    <li><a href='#misc'>Miscellaneous</a>\n",
    "    </li>\n",
    "</div>"
   ]
  },
  {
   "cell_type": "markdown",
   "id": "8fcbb8ae",
   "metadata": {},
   "source": [
    "<h3 style='text-align:center'><b><u><i>\n",
    "    ORIENTATION\n",
    "</i></b></h3>\n",
    "\n",
    "This is a generic template to expedite organization and ease of use/reading for the purposes of modeling and machine learning..."
   ]
  },
  {
   "cell_type": "markdown",
   "id": "6635d36b",
   "metadata": {},
   "source": [
    "<div style='background-color:lightblue'>\n",
    "<a id='imports'></a>\n",
    "    <b><u><i><h1 style='text-align:center ; padding-top:5px'>\n",
    "        Imports\n",
    "    </h1></i></u></b>\n",
    "    <li><a href='#TableOfContents'>Table of Contents Top</a>\n",
    "    </li>\n",
    "</div>"
   ]
  },
  {
   "cell_type": "code",
   "execution_count": 2,
   "id": "b4f15f56",
   "metadata": {},
   "outputs": [],
   "source": [
    "# Vectorization & Dataframe\n",
    "import numpy as np\n",
    "import pandas as pd\n",
    "\n",
    "# Classification Models\n",
    "from sklearn.tree import DecisionTreeClassifier as DTC\n",
    "from sklearn.ensemble import RandomForestClassifier as RFC\n",
    "from sklearn.neighbors import KNeighborsClassifier as KNN\n",
    "from sklearn.linear_model import LogisticRegression as LogR\n",
    "\n",
    "# Classification Metrics\n",
    "from sklearn.metrics import accuracy_score, classification_report, recall_score\n",
    "\n",
    "# Regression Models\n",
    "from sklearn.linear_model import LassoLars as LL\n",
    "from sklearn.linear_model import TweedieRegressor as TR\n",
    "from sklearn.linear_model import LinearRegression as LinR\n",
    "\n",
    "# Regression Metrics\n",
    "from sklearn.metrics import explained_variance_score, mean_squared_error\n",
    "\n",
    "# Clustering Models\n",
    "from sklearn.cluster import KMeans\n",
    "\n",
    "# Anomaly Detection\n",
    "from sklearn.cluster import DBSCAN\n",
    "\n",
    "# Scaling\n",
    "from sklearn.preprocessing import MinMaxScaler, StandardScaler, RobustScaler, QuantileTransformer\n",
    "\n",
    "# Itertools\n",
    "import itertools\n",
    "\n",
    "# .py files\n",
    "import wrangle as w"
   ]
  },
  {
   "cell_type": "markdown",
   "id": "3674d816",
   "metadata": {},
   "source": [
    "<div style='background-color:lightblue'>\n",
    "<a id='initial'></a>\n",
    "    <b><u><i><h1 style='text-align:center ; padding-top:5px'>\n",
    "        Initial Setup\n",
    "    </h1></i></u></b>\n",
    "    <li><a href='#TableOfContents'>Table of Contents Top</a>\n",
    "    <li><a href='#initialdata'>Load Initial Dataset</a>\n",
    "    <li><a href='#initialsplit'>Split Dataset</a>\n",
    "    <li><a href='#initialdefine'>Define Training and Target Columns</a>\n",
    "    <li><a href='#initialsummary'>Summary</a>\n",
    "    </li>\n",
    "</div>"
   ]
  },
  {
   "cell_type": "markdown",
   "id": "f63809e5",
   "metadata": {},
   "source": [
    "<h3 style='text-align:center'><b><u><i>\n",
    "    ORIENTATION\n",
    "</i></u></b></h3>\n",
    "\n",
    "Initially load and prepare the [DATASET NAME] dataset for use in machine learning."
   ]
  },
  {
   "cell_type": "markdown",
   "id": "e7d5c1ed",
   "metadata": {},
   "source": [
    "<div style='border-bottom:5px solid #000000'></div>"
   ]
  },
  {
   "cell_type": "markdown",
   "id": "7cbf1438",
   "metadata": {},
   "source": [
    "<a id='initialdata'></a>\n",
    "<h3 style='text-align:center'><b><i>\n",
    "    Load Initial Dataset\n",
    "</i></b></h3>\n",
    "<li><a href='#initial'>Initial Setup Top</a>"
   ]
  },
  {
   "cell_type": "code",
   "execution_count": 3,
   "id": "ed551d22",
   "metadata": {},
   "outputs": [],
   "source": [
    "# Load the [DATASET NAME] dataset\n"
   ]
  },
  {
   "cell_type": "markdown",
   "id": "c2429011",
   "metadata": {},
   "source": [
    "<div style='border-bottom:5px solid #000000'></div>"
   ]
  },
  {
   "cell_type": "markdown",
   "id": "d089453e",
   "metadata": {},
   "source": [
    "<a id='initialsplit'></a>\n",
    "<h3 style='text-align:center'><b><i>\n",
    "    Split Dataset\n",
    "</i></b></h3>\n",
    "<li><a href='#initial'>Initial Setup Top</a>"
   ]
  },
  {
   "cell_type": "code",
   "execution_count": 4,
   "id": "b2f9bdf9",
   "metadata": {},
   "outputs": [],
   "source": [
    "# Split [DATASET NAME] dataset into...\n",
    "# 1 training sets at ##% of total data\n",
    "# # validation sets at ##% of total data\n",
    "# 1 testing sets at ##% of total data\n"
   ]
  },
  {
   "cell_type": "markdown",
   "id": "2d651141",
   "metadata": {},
   "source": [
    "<div style='border-bottom:5px solid #000000'></div>"
   ]
  },
  {
   "cell_type": "markdown",
   "id": "96878402",
   "metadata": {},
   "source": [
    "<a id='initialdefine'></a>\n",
    "<h3 style='text-align:center'><b><i>\n",
    "    Define Training and Target Columns\n",
    "</i></b></h3>\n",
    "<li><a href='#initial'>Intial Setup Top</a>"
   ]
  },
  {
   "cell_type": "code",
   "execution_count": null,
   "id": "bef89c22",
   "metadata": {},
   "outputs": [],
   "source": [
    "# Define Training Columns\n"
   ]
  },
  {
   "cell_type": "code",
   "execution_count": null,
   "id": "0f1e6117",
   "metadata": {},
   "outputs": [],
   "source": [
    "# Define Target Column\n"
   ]
  },
  {
   "cell_type": "code",
   "execution_count": null,
   "id": "1db52acc",
   "metadata": {},
   "outputs": [],
   "source": [
    "# Create training subset of all datasets\n"
   ]
  },
  {
   "cell_type": "code",
   "execution_count": null,
   "id": "2feaf9da",
   "metadata": {},
   "outputs": [],
   "source": [
    "# Create target subset of all datasets\n"
   ]
  },
  {
   "cell_type": "markdown",
   "id": "2ce3ece2",
   "metadata": {},
   "source": [
    "<div style='border-bottom:5px solid #000000'></div>"
   ]
  },
  {
   "cell_type": "markdown",
   "id": "ed8d4ccb",
   "metadata": {},
   "source": [
    "<a id='initialsummary'></a>\n",
    "<h3 style='text-align:center'><b><i>\n",
    "    Summary\n",
    "</i></b></h3>\n",
    "<li><a href='#initial'>Initial Setup Top</a>"
   ]
  },
  {
   "cell_type": "markdown",
   "id": "0f7faaf1",
   "metadata": {},
   "source": [
    "- DATASET\n",
    "    - [DATASET NAME]\n",
    "    - 00 Columns\n",
    "    - 00 Rows\n",
    "- SPLITING DATA\n",
    "    - 1 Train (00% of total data)\n",
    "    - 0 Validate (00% of total data)\n",
    "    - 1 Test (00% of total data)\n",
    "- TRAINING/TARGET COLUMNS\n",
    "    - 0 Training Columns ([0 OF TRAINING COLUMNS] / [0 OF TOTAL COLUMNS] possible columns)\n",
    "    - [TARGET COLUMN NAME]\n",
    "- CREATE SUBSETS OF ALL SPLIT DATASETS"
   ]
  },
  {
   "cell_type": "markdown",
   "id": "b517a47a",
   "metadata": {},
   "source": [
    "<div style='background-color:lightblue'>\n",
    "<a id='model1'></a>\n",
    "    <b><u><i><h1 style='text-align:center ; padding-top:5px'>\n",
    "        Model Type 1\n",
    "    </h1></i></u></b>\n",
    "    <li><a href='#TableOfContents'>Table of Contents Top</a>\n",
    "    <li><a href='#model1hypertuning'>Hyperparameter Tuning</a>\n",
    "    <li><a href='#model1models'>Models Created</a>\n",
    "    <li><a href='#model1summary'>Summary</a>\n",
    "    </li>\n",
    "</div>"
   ]
  },
  {
   "cell_type": "markdown",
   "id": "3fa923a7",
   "metadata": {},
   "source": [
    "<h3 style='text-align:center'><b><u><i>\n",
    "    ORIENTATION\n",
    "</i></u></b></h3>\n",
    "\n",
    "Train and validate data using the <mark>[MACHINE LEARNING MODEL NAME]</mark>\n",
    "\n",
    "Model Metric is <mark>[METRIC NAME]</mark> because..."
   ]
  },
  {
   "cell_type": "markdown",
   "id": "82fddfe5",
   "metadata": {},
   "source": [
    "<div style='border-bottom:5px solid #000000'></div>"
   ]
  },
  {
   "cell_type": "markdown",
   "id": "c3b646d6",
   "metadata": {},
   "source": [
    "<a id='model1hypertuning'></a>\n",
    "<h3 style='text-align:center'><b><i>\n",
    "    Hyperparameter Tuning\n",
    "</i></b></h3>\n",
    "<li><a href='#model1'>Model Type 1 Top</a>\n",
    "<li><a href='#model1hypertuningsummary'>Hyperparameter Tuning Summary</a>"
   ]
  },
  {
   "cell_type": "code",
   "execution_count": null,
   "id": "cbcc734a",
   "metadata": {},
   "outputs": [],
   "source": [
    "# Using 'gridsearchcv', find the best hyperparameters\n"
   ]
  },
  {
   "cell_type": "markdown",
   "id": "528592af",
   "metadata": {},
   "source": [
    "<a id='model1hypertuningsummary'></a>\n",
    "<h3><b><i>\n",
    "    Hyperparameter Tuning Summary\n",
    "</i></b></h3>\n",
    "<li><a href='#model1hypertuning'>Hyperparameter Tuning Top</a>\n",
    "    \n",
    "- BEST HYPERPARAMETERS\n",
    "    - [HYPERPARAMETER] = [VALUE]\n",
    "    - [HYPERPARAMETER] = [VALUE]\n",
    "    - [HYPERPARAMETER] = [VALUE]"
   ]
  },
  {
   "cell_type": "markdown",
   "id": "61fd3084",
   "metadata": {},
   "source": [
    "<div style='border-bottom:5px solid #000000'></div>"
   ]
  },
  {
   "cell_type": "markdown",
   "id": "624ca6b3",
   "metadata": {},
   "source": [
    "<a id='model1models'></a>\n",
    "<h3 style='text-align:center'><b><i>\n",
    "    Models Created\n",
    "</i></b></h3>\n",
    "<li><a href='#model1'>Model Type 1 Top</a>\n",
    "<li><a href='#model1modelssummary'>Models Created Summary</a>"
   ]
  },
  {
   "cell_type": "code",
   "execution_count": null,
   "id": "b5f8e7ea",
   "metadata": {},
   "outputs": [],
   "source": [
    "# Demonstrate some of the models created\n"
   ]
  },
  {
   "cell_type": "code",
   "execution_count": null,
   "id": "d4cf206d",
   "metadata": {},
   "outputs": [],
   "source": [
    "# Append to models dataframme\n"
   ]
  },
  {
   "cell_type": "markdown",
   "id": "069ee29e",
   "metadata": {},
   "source": [
    "<a id='model1modelssummary'></a>\n",
    "<h3><b><i>\n",
    "    Models Created Summary\n",
    "</i></b></h3>\n",
    "<li><a href='#model1models'>Models Created Top</a>\n",
    "\n",
    "- 00 MODELS CREATED\n",
    "- BEST [MACHINE LEARNING MODEL NAME] MODEL\n",
    "    - [METRIC NAME] = [VALUE]"
   ]
  },
  {
   "cell_type": "markdown",
   "id": "17c36223",
   "metadata": {},
   "source": [
    "<div style='border-bottom:5px solid #000000'></div>"
   ]
  },
  {
   "cell_type": "markdown",
   "id": "ae53a0f5",
   "metadata": {},
   "source": [
    "<a id='model1summary'></a>\n",
    "<h3 style='text-align:center'><b><i>\n",
    "    Summary\n",
    "</i></b></h3>\n",
    "<li><a href='#model1models'>Model Type 1 Top</a>\n",
    "    \n",
    "- BEST HYPERPARAMETERS\n",
    "    - [HYPERPARAMETER] = [VALUE]\n",
    "    - [HYPERPARAMETER] = [VALUE]\n",
    "    - [HYPERPARAMETER] = [VALUE]\n",
    "- 00 MODELS CREATED\n",
    "- BEST [MACHINE LEARNING MODEL NAME] MODEL\n",
    "    - [METRIC NAME] = [VALUE]"
   ]
  },
  {
   "cell_type": "markdown",
   "id": "39135621",
   "metadata": {},
   "source": [
    "<div style='background-color:lightblue'>\n",
    "<a id='model2'></a>\n",
    "    <b><u><i><h1 style='text-align:center ; padding-top:5px'>\n",
    "        Model Type 2\n",
    "    </h1></i></u></b>\n",
    "    <li><a href='#TableOfContents'>Table of Contents Top</a>\n",
    "    </li>\n",
    "</div>"
   ]
  },
  {
   "cell_type": "code",
   "execution_count": null,
   "id": "6a5046ec",
   "metadata": {},
   "outputs": [],
   "source": []
  },
  {
   "cell_type": "markdown",
   "id": "84f965dc",
   "metadata": {},
   "source": [
    "<div style='background-color:lightblue'>\n",
    "<a id='model3'></a>\n",
    "    <b><u><i><h1 style='text-align:center ; padding-top:5px'>\n",
    "        Model Type 3\n",
    "    </h1></i></u></b>\n",
    "    <li><a href='#TableOfContents'>Table of Contents Top</a>\n",
    "    </li>\n",
    "</div>"
   ]
  },
  {
   "cell_type": "code",
   "execution_count": null,
   "id": "f29ca17c",
   "metadata": {},
   "outputs": [],
   "source": []
  },
  {
   "cell_type": "markdown",
   "id": "1a333d64",
   "metadata": {},
   "source": [
    "<div style='background-color:lightblue'>\n",
    "<a id='model4'></a>\n",
    "    <b><u><i><h1 style='text-align:center ; padding-top:5px'>\n",
    "        Model Type 4\n",
    "    </h1></i></u></b>\n",
    "    <li><a href='#TableOfContents'>Table of Contents Top</a>\n",
    "    </li>\n",
    "</div>"
   ]
  },
  {
   "cell_type": "code",
   "execution_count": null,
   "id": "61f86733",
   "metadata": {},
   "outputs": [],
   "source": []
  },
  {
   "cell_type": "markdown",
   "id": "c4aa4c4a",
   "metadata": {},
   "source": [
    "<div style='background-color:lightblue'>\n",
    "<a id='bestmodel'></a>\n",
    "    <b><u><i><h1 style='text-align:center ; padding-top:5px'>\n",
    "        Best Performing Model\n",
    "    </h1></i></u></b>\n",
    "    <li><a href='#TableOfContents'>Table of Contents Top</a>\n",
    "    </li>\n",
    "</div>"
   ]
  },
  {
   "cell_type": "code",
   "execution_count": null,
   "id": "821a2946",
   "metadata": {},
   "outputs": [],
   "source": []
  },
  {
   "cell_type": "markdown",
   "id": "4ef21d1b",
   "metadata": {},
   "source": [
    "<div style='background-color:lightblue'>\n",
    "<a id='misc'></a>\n",
    "    <b><u><i><h1 style='text-align:center ; padding-top:5px'>\n",
    "        Miscellaneous\n",
    "    </h1></i></u></b>\n",
    "    <li><a href='#TableOfContents'>Table of Contents Top</a>\n",
    "    </li>\n",
    "</div>"
   ]
  },
  {
   "cell_type": "code",
   "execution_count": null,
   "id": "88563631",
   "metadata": {},
   "outputs": [],
   "source": []
  }
 ],
 "metadata": {
  "kernelspec": {
   "display_name": "Python 3 (ipykernel)",
   "language": "python",
   "name": "python3"
  },
  "language_info": {
   "codemirror_mode": {
    "name": "ipython",
    "version": 3
   },
   "file_extension": ".py",
   "mimetype": "text/x-python",
   "name": "python",
   "nbconvert_exporter": "python",
   "pygments_lexer": "ipython3",
   "version": "3.9.13"
  }
 },
 "nbformat": 4,
 "nbformat_minor": 5
}
