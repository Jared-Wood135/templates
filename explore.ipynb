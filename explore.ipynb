{
 "cells": [
  {
   "cell_type": "markdown",
   "id": "b18d5703",
   "metadata": {},
   "source": [
    "<div style='background-color:lightblue'>\n",
    "<a id='TableOfContents'></a>\n",
    "    <b><u><i><h1 style='text-align:center ; top-padding:5px'>\n",
    "        Table of Contents\n",
    "    </h1></i></u></b>\n",
    "    <li><a href='#imports'>Imports</a>\n",
    "    <li><a href='#part1'>Graphs and Stats</a>\n",
    "    <li><a href='#misc'>Miscellaneous</a>\n",
    "    </li>\n",
    "</div>"
   ]
  },
  {
   "cell_type": "markdown",
   "id": "c1216bd4",
   "metadata": {},
   "source": [
    "<div id=\"sidebar\"></div>\n"
   ]
  },
  {
   "cell_type": "markdown",
   "id": "d69f32e7",
   "metadata": {},
   "source": [
    "## Table of Contents\n",
    "\n",
    "- [Section 1](#section1)\n",
    "  - [Subsection 1.1](#subsection1_1)\n",
    "- [Section 2](#section2)\n"
   ]
  },
  {
   "cell_type": "markdown",
   "id": "3fc6fd9a",
   "metadata": {},
   "source": [
    "%%javascript\n",
    "\n",
    "// Get the notebook container element\n",
    "var notebookContainer = document.querySelector('.notebook_container');\n",
    "\n",
    "// Create a new div element for the sidebar\n",
    "var sidebar = document.createElement('div');\n",
    "sidebar.id = 'sidebar';\n",
    "sidebar.style.width = '300px';\n",
    "sidebar.style.height = '100%';\n",
    "sidebar.style.position = 'fixed';\n",
    "sidebar.style.top = '0';\n",
    "sidebar.style.left = '0';\n",
    "sidebar.style.padding = '10px';\n",
    "sidebar.style.background = '#f2f2f2';\n",
    "sidebar.style.overflowY = 'scroll';\n",
    "\n",
    "// Append the sidebar to the notebook container\n",
    "notebookContainer.insertBefore(sidebar, notebookContainer.firstChild);\n",
    "\n",
    "// Get all cells with the 'toc' tag\n",
    "var tocCells = document.querySelectorAll('.cell[tag=\"toc\"]');\n",
    "\n",
    "// Build the table of contents from the tagged cells\n",
    "for (var i = 0; i < tocCells.length; i++) {\n",
    "  var cell = tocCells[i];\n",
    "  var headingLevel = parseInt(cell.querySelector(':scope > .rendered_html').tagName.slice(1));\n",
    "  var title = cell.innerText;\n",
    "  var link = '<a href=\"#' + cell.getAttribute('id') + '\">' + title + '</a>';\n",
    "  var listItem = document.createElement('div');\n",
    "  listItem.style.marginLeft = (headingLevel - 1) * 20 + 'px';\n",
    "  listItem.innerHTML = link;\n",
    "  sidebar.appendChild(listItem);\n",
    "}\n"
   ]
  },
  {
   "cell_type": "markdown",
   "id": "08673bbb",
   "metadata": {},
   "source": [
    "<div style='background-color:lightblue'>\n",
    "<a id='imports'></a>\n",
    "    <b><u><i><h1 style='text-align:center ; padding-top:5px'>\n",
    "        Imports\n",
    "    </h1></i></u></b>\n",
    "    <li><a href='#TableOfContents'>Table of Contents</a>\n",
    "    </li>\n",
    "</div>"
   ]
  },
  {
   "cell_type": "code",
   "execution_count": 1,
   "id": "e810c5cd",
   "metadata": {},
   "outputs": [],
   "source": [
    "# Vectorization & Dataframe\n",
    "import numpy as np\n",
    "import pandas as pd\n",
    "\n",
    "# Visualizations\n",
    "import matplotlib.pyplot as plt\n",
    "import seaborn as sns\n",
    "\n",
    "# stats\n",
    "from scipy import stats\n",
    "\n",
    "# Glorious itertools\n",
    "import itertools\n",
    "\n",
    "# randomforest modeling\n",
    "from sklearn.ensemble import RandomForestClassifier as RFC\n",
    "from sklearn.metrics import accuracy_score\n",
    "\n",
    "# Scaling (sklearn)\n",
    "from sklearn.preprocessing import MinMaxScaler\n",
    "\n",
    "# Clustering (sklearn)\n",
    "from sklearn.cluster import KMeans\n",
    "\n",
    "# .py files\n",
    "import wrangle as w"
   ]
  },
  {
   "cell_type": "markdown",
   "id": "e7239442",
   "metadata": {},
   "source": [
    "<div style='background-color:lightblue'>\n",
    "<a id='part1'></a>\n",
    "    <b><u><i><h1 style='text-align:center ; padding-top:5px'>\n",
    "        Graphs and stats\n",
    "    </h1></i></u></b>\n",
    "    <li><a href='#TableOfContents'>Table of Contents</a>\n",
    "    </li>\n",
    "</div>"
   ]
  },
  {
   "cell_type": "code",
   "execution_count": null,
   "id": "2c4dc568",
   "metadata": {},
   "outputs": [],
   "source": []
  },
  {
   "cell_type": "markdown",
   "id": "dade32a9",
   "metadata": {},
   "source": [
    "<div style='background-color:lightblue'>\n",
    "<a id='misc'></a>\n",
    "    <b><u><i><h1 style='text-align:center ; padding-top:5px'>\n",
    "        Miscellaneous\n",
    "    </h1></i></u></b>\n",
    "    <li><a href='#TableOfContents'>Table of Contents</a>\n",
    "    </li>\n",
    "</div>"
   ]
  },
  {
   "cell_type": "code",
   "execution_count": null,
   "id": "e2bb5bd3",
   "metadata": {},
   "outputs": [],
   "source": []
  }
 ],
 "metadata": {
  "kernelspec": {
   "display_name": "Python 3 (ipykernel)",
   "language": "python",
   "name": "python3"
  },
  "language_info": {
   "codemirror_mode": {
    "name": "ipython",
    "version": 3
   },
   "file_extension": ".py",
   "mimetype": "text/x-python",
   "name": "python",
   "nbconvert_exporter": "python",
   "pygments_lexer": "ipython3",
   "version": "3.9.13"
  }
 },
 "nbformat": 4,
 "nbformat_minor": 5
}
