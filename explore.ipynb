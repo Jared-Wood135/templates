{
 "cells": [
  {
   "cell_type": "markdown",
   "id": "b18d5703",
   "metadata": {},
   "source": [
    "<div style='background-color:lightblue'>\n",
    "<a id='TableOfContents'></a>\n",
    "    <b><u><i><h1 style='text-align:center ; top-padding:5px'>\n",
    "        Table of Contents\n",
    "    </h1></i></u></b>\n",
    "    <li><a href='#imports'>Imports</a>\n",
    "    <li><a href='#part1'>Part 1</a>\n",
    "    <li><a href='#part2'>Part 2</a>\n",
    "    <li><a href='#part3'>Part 3</a>\n",
    "    <li><a href='#misc'>Miscellaneous</a>\n",
    "    </li>\n",
    "</div>"
   ]
  },
  {
   "cell_type": "markdown",
   "id": "fe038caa",
   "metadata": {},
   "source": [
    "<h3 style='text-align: center'><b><u><i>\n",
    "    ORIENTATION\n",
    "</i></u></b></h3>\n",
    "\n",
    "<h5 style='text-align: center'>\n",
    "This is a generic template in order to give an organized workplace for ease of use and navigability.\n",
    "</h5>"
   ]
  },
  {
   "cell_type": "markdown",
   "id": "08673bbb",
   "metadata": {},
   "source": [
    "<div style='background-color:lightblue'>\n",
    "<a id='imports'></a>\n",
    "    <b><u><i><h1 style='text-align:center ; padding-top:5px'>\n",
    "        Imports\n",
    "    </h1></i></u></b>\n",
    "    <li><a href='#TableOfContents'>Table of Contents</a>\n",
    "    </li>\n",
    "</div>"
   ]
  },
  {
   "cell_type": "code",
   "execution_count": 6,
   "id": "e810c5cd",
   "metadata": {},
   "outputs": [],
   "source": [
    "# Vectorization & Dataframe\n",
    "import numpy as np\n",
    "import pandas as pd\n",
    "\n",
    "# Visualizations\n",
    "import matplotlib as mpl\n",
    "import matplotlib.pyplot as plt\n",
    "import seaborn as sns\n",
    "\n",
    "# stats\n",
    "from scipy import stats\n",
    "\n",
    "# Glorious itertools\n",
    "import itertools\n",
    "\n",
    "# Ignore warnings\n",
    "import warnings\n",
    "warnings.filterwarnings('ignore')\n",
    "\n",
    "# .py files\n",
    "import wrangle as w"
   ]
  },
  {
   "cell_type": "code",
   "execution_count": 7,
   "id": "47c0cd1b",
   "metadata": {},
   "outputs": [],
   "source": [
    "# Set default matplotlib style to 'bmh'...\n",
    "mpl.style.use('bmh')"
   ]
  },
  {
   "cell_type": "markdown",
   "id": "e7239442",
   "metadata": {},
   "source": [
    "<div style='background-color:lightblue'>\n",
    "<a id='part1'></a>\n",
    "    <b><u><i><h1 style='text-align:center ; padding-top:5px'>\n",
    "        Part 1\n",
    "    </h1></i></u></b>\n",
    "    <li><a href='#TableOfContents'>Table of Contents Top</a>\n",
    "    <li><a href='#part1-1'>Part 1-1</a>\n",
    "    <li><a href='#part1-2'>Part 1-2</a>\n",
    "    <li><a href='#part1-3'>Part 1-3</a>\n",
    "    <li><a href='#part1summary'>Part 1 Summary</a>\n",
    "    </li>\n",
    "</div>"
   ]
  },
  {
   "cell_type": "markdown",
   "id": "ae30dda9",
   "metadata": {},
   "source": [
    "<b><u><i><h3 style='text-align:center'>\n",
    "    ORIENTATION\n",
    "</h3></i></u></b>\n",
    "\n",
    "<h5 style='text-align: center'>\n",
    "Synopsis of what to expect in Part 1...\n",
    "</h5>"
   ]
  },
  {
   "cell_type": "markdown",
   "id": "dde89f1d",
   "metadata": {},
   "source": [
    "<div style=\"border-bottom: 5px solid #000000;\"></div>"
   ]
  },
  {
   "cell_type": "markdown",
   "id": "47761fe6",
   "metadata": {},
   "source": [
    "<a id='part1-1'></a>\n",
    "<h3 style='text-align:center'><b><i>\n",
    "    Part 1-1\n",
    "</i></b></h3>\n",
    "    <li><a href='#part1'>Part 1 Top</a>\n",
    "    <li><a href='#part1-1summary'>Part 1-1 Summary</a>\n",
    "    </li>"
   ]
  },
  {
   "cell_type": "code",
   "execution_count": null,
   "id": "49aeca57",
   "metadata": {},
   "outputs": [],
   "source": [
    "# Code with comments"
   ]
  },
  {
   "cell_type": "markdown",
   "id": "41bd7c0d",
   "metadata": {},
   "source": [
    "<a id='part1-1summary'></a>\n",
    "<h3><b><i>\n",
    "    Part 1-1 Summary\n",
    "</i></b></h3>\n",
    "    <li><a href='#part1-1'>Part 1-1 Top</a>\n",
    "\n",
    "STUFF"
   ]
  },
  {
   "cell_type": "markdown",
   "id": "094b4811",
   "metadata": {},
   "source": [
    "<div style=\"border-bottom: 5px solid #000000;\"></div>"
   ]
  },
  {
   "cell_type": "markdown",
   "id": "39a247df",
   "metadata": {},
   "source": [
    "<a id='part1-2'></a>\n",
    "<h3 style='text-align:center'><b><i>\n",
    "    Part 1-2\n",
    "</i></b></h3>\n",
    "    <li><a href='#part1'>Part 1 Top</a>\n",
    "    <li><a href='#part1-2summary'>Part 1-2 Summary</a>\n",
    "    </li>"
   ]
  },
  {
   "cell_type": "code",
   "execution_count": null,
   "id": "6e956a7e",
   "metadata": {},
   "outputs": [],
   "source": [
    "# Code with comments"
   ]
  },
  {
   "cell_type": "markdown",
   "id": "fc446cdc",
   "metadata": {},
   "source": [
    "<a id='part1-2summary'></a>\n",
    "<h3><b><i>\n",
    "    Part 1-2 Summary\n",
    "</i></b></h3>\n",
    "    <li><a href='#part1-2'>Part 1-2 Top</a>\n",
    "\n",
    "STUFF"
   ]
  },
  {
   "cell_type": "markdown",
   "id": "89a65598",
   "metadata": {},
   "source": [
    "<div style=\"border-bottom: 5px solid #000000;\"></div>"
   ]
  },
  {
   "cell_type": "markdown",
   "id": "c14eaad2",
   "metadata": {},
   "source": [
    "<a id='part1-3'></a>\n",
    "<h3 style='text-align:center'><b><i>\n",
    "    Part 1-3\n",
    "</i></b></h3>\n",
    "    <li><a href='#part1'>Part 1 Top</a>\n",
    "    <li><a href='#part1-3summary'>Part 1-3 Summary</a>\n",
    "    </li>"
   ]
  },
  {
   "cell_type": "code",
   "execution_count": null,
   "id": "723e1fc4",
   "metadata": {},
   "outputs": [],
   "source": [
    "# Code with comments"
   ]
  },
  {
   "cell_type": "markdown",
   "id": "acd81251",
   "metadata": {},
   "source": [
    "<a id='part1-3summary'></a>\n",
    "<h3><b><i>\n",
    "    Part 1-3 Summary\n",
    "</i></b></h3>\n",
    "    <li><a href='#part1-3'>Part 1-3 Top</a>\n",
    "\n",
    "STUFF"
   ]
  },
  {
   "cell_type": "markdown",
   "id": "1f96b668",
   "metadata": {},
   "source": [
    "<div style=\"border-bottom: 5px solid #000000;\"></div>"
   ]
  },
  {
   "cell_type": "markdown",
   "id": "83fcb681",
   "metadata": {},
   "source": [
    "<a id='part1summary'></a>\n",
    "<h3 style='text-align:center'><b><i>\n",
    "    Part 1 Summary\n",
    "</i></b></h3>\n",
    "    <li><a href='#part1'>Part 1 Top</a>\n",
    "    </li>\n",
    "    \n",
    "STUFF"
   ]
  },
  {
   "cell_type": "markdown",
   "id": "4b50df8d",
   "metadata": {},
   "source": [
    "<div style='background-color:lightblue'>\n",
    "<a id='part2'></a>\n",
    "    <b><u><i><h1 style='text-align:center ; padding-top:5px'>\n",
    "        Part 2\n",
    "    </h1></i></u></b>\n",
    "    <li><a href='#TableOfContents'>Table of Contents Top</a>\n",
    "    <li><a href='#part2-1'>Part 2-1</a>\n",
    "    <li><a href='#part2-2'>Part 2-2</a>\n",
    "    <li><a href='#part2-3'>Part 2-3</a>\n",
    "    <li><a href='#part2summary'>Part 2 Summary</a>\n",
    "    </li>\n",
    "</div>"
   ]
  },
  {
   "cell_type": "markdown",
   "id": "7a86de99",
   "metadata": {},
   "source": [
    "<b><u><i><h3 style='text-align:center'>\n",
    "    ORIENTATION\n",
    "</h3></i></u></b>\n",
    "\n",
    "<h5 style='text-align: center'>\n",
    "Synopsis of what to expect in Part 2...\n",
    "</h5>"
   ]
  },
  {
   "cell_type": "markdown",
   "id": "c459591b",
   "metadata": {},
   "source": [
    "<div style=\"border-bottom: 5px solid #000000;\"></div>"
   ]
  },
  {
   "cell_type": "markdown",
   "id": "586ed8c7",
   "metadata": {},
   "source": [
    "<a id='part2-1'></a>\n",
    "<h3 style='text-align:center'><b><i>\n",
    "    Part 2-1\n",
    "</i></b></h3>\n",
    "    <li><a href='#part2'>Part 2 Top</a>\n",
    "    <li><a href='#part2-1summary'>Part 2-1 Summary</a>\n",
    "    </li>"
   ]
  },
  {
   "cell_type": "code",
   "execution_count": null,
   "id": "08d289bb",
   "metadata": {},
   "outputs": [],
   "source": [
    "# Code with comments"
   ]
  },
  {
   "cell_type": "markdown",
   "id": "7a32154b",
   "metadata": {},
   "source": [
    "<a id='part2-1summary'></a>\n",
    "<h3><b><i>\n",
    "    Part 2-1 Summary\n",
    "</i></b></h3>\n",
    "    <li><a href='#part2-1'>Part 2-1 Top</a>\n",
    "\n",
    "STUFF"
   ]
  },
  {
   "cell_type": "markdown",
   "id": "82b17ca7",
   "metadata": {},
   "source": [
    "<div style=\"border-bottom: 5px solid #000000;\"></div>"
   ]
  },
  {
   "cell_type": "markdown",
   "id": "6805fd6a",
   "metadata": {},
   "source": [
    "<a id='part2-2'></a>\n",
    "<h3 style='text-align:center'><b><i>\n",
    "    Part 2-2\n",
    "</i></b></h3>\n",
    "    <li><a href='#part2'>Part 2 Top</a>\n",
    "    <li><a href='#part2-2summary'>Part 2-2 Summary</a>\n",
    "    </li>"
   ]
  },
  {
   "cell_type": "code",
   "execution_count": null,
   "id": "e7355fb4",
   "metadata": {},
   "outputs": [],
   "source": [
    "# Code with comments"
   ]
  },
  {
   "cell_type": "markdown",
   "id": "20f13d1b",
   "metadata": {},
   "source": [
    "<a id='part2-2summary'></a>\n",
    "<h3><b><i>\n",
    "    Part 2-2 Summary\n",
    "</i></b></h3>\n",
    "    <li><a href='#part2-2'>Part 2-2 Top</a>\n",
    "\n",
    "STUFF"
   ]
  },
  {
   "cell_type": "markdown",
   "id": "f28ee763",
   "metadata": {},
   "source": [
    "<div style=\"border-bottom: 5px solid #000000;\"></div>"
   ]
  },
  {
   "cell_type": "markdown",
   "id": "e3669ae6",
   "metadata": {},
   "source": [
    "<a id='part2-3'></a>\n",
    "<h3 style='text-align:center'><b><i>\n",
    "    Part 2-3\n",
    "</i></b></h3>\n",
    "    <li><a href='#part2'>Part 2 Top</a>\n",
    "    <li><a href='#part2-3summary'>Part 2-3 Summary</a>\n",
    "    </li>"
   ]
  },
  {
   "cell_type": "code",
   "execution_count": null,
   "id": "511b6ec3",
   "metadata": {},
   "outputs": [],
   "source": [
    "# Code with comments"
   ]
  },
  {
   "cell_type": "markdown",
   "id": "084742c8",
   "metadata": {},
   "source": [
    "<a id='part2-3summary'></a>\n",
    "<h3><b><i>\n",
    "    Part 2-3 Summary\n",
    "</i></b></h3>\n",
    "    <li><a href='#part2-3'>Part 2-3 Top</a>\n",
    "\n",
    "STUFF"
   ]
  },
  {
   "cell_type": "markdown",
   "id": "bedf34c3",
   "metadata": {},
   "source": [
    "<div style=\"border-bottom: 5px solid #000000;\"></div>"
   ]
  },
  {
   "cell_type": "markdown",
   "id": "e46fbf3a",
   "metadata": {},
   "source": [
    "<a id='part2summary'></a>\n",
    "<h3 style='text-align:center'><b><i>\n",
    "    Part 2 Summary\n",
    "</i></b></h3>\n",
    "    <li><a href='#part2'>Part 2 Top</a>\n",
    "    </li>\n",
    "    \n",
    "STUFF"
   ]
  },
  {
   "cell_type": "markdown",
   "id": "49904212",
   "metadata": {},
   "source": [
    "<div style='background-color:lightblue'>\n",
    "<a id='part3'></a>\n",
    "    <b><u><i><h1 style='text-align:center ; padding-top:5px'>\n",
    "        Part 3\n",
    "    </h1></i></u></b>\n",
    "    <li><a href='#TableOfContents'>Table of Contents Top</a>\n",
    "    <li><a href='#part3-1'>Part 3-1</a>\n",
    "    <li><a href='#part3-2'>Part 3-2</a>\n",
    "    <li><a href='#part3-3'>Part 3-3</a>\n",
    "    <li><a href='#part3summary'>Part 3 Summary</a>\n",
    "    </li>\n",
    "</div>"
   ]
  },
  {
   "cell_type": "markdown",
   "id": "99ef3dbb",
   "metadata": {},
   "source": [
    "<b><u><i><h3 style='text-align:center'>\n",
    "    ORIENTATION\n",
    "</h3></i></u></b>\n",
    "\n",
    "<h5 style='text-align: center'>\n",
    "Synopsis of what to expect in Part 3...\n",
    "</h5>"
   ]
  },
  {
   "cell_type": "markdown",
   "id": "ab0af2fe",
   "metadata": {},
   "source": [
    "<div style=\"border-bottom: 5px solid #000000;\"></div>"
   ]
  },
  {
   "cell_type": "markdown",
   "id": "be657635",
   "metadata": {},
   "source": [
    "<a id='part3-1'></a>\n",
    "<h3 style='text-align:center'><b><i>\n",
    "    Part 3-1\n",
    "</i></b></h3>\n",
    "    <li><a href='#part3'>Part 3 Top</a>\n",
    "    <li><a href='#part3-1summary'>Part 3-1 Summary</a>\n",
    "    </li>"
   ]
  },
  {
   "cell_type": "code",
   "execution_count": null,
   "id": "a403a362",
   "metadata": {},
   "outputs": [],
   "source": [
    "# Code with comments"
   ]
  },
  {
   "cell_type": "markdown",
   "id": "da6b22b5",
   "metadata": {},
   "source": [
    "<a id='part3-1summary'></a>\n",
    "<h3><b><i>\n",
    "    Part 3-1 Summary\n",
    "</i></b></h3>\n",
    "    <li><a href='#part3-1'>Part 3-1 Top</a>\n",
    "\n",
    "STUFF"
   ]
  },
  {
   "cell_type": "markdown",
   "id": "b3f57b6b",
   "metadata": {},
   "source": [
    "<div style=\"border-bottom: 5px solid #000000;\"></div>"
   ]
  },
  {
   "cell_type": "markdown",
   "id": "f2c1f9e7",
   "metadata": {},
   "source": [
    "<a id='part3-2'></a>\n",
    "<h3 style='text-align:center'><b><i>\n",
    "    Part 3-2\n",
    "</i></b></h3>\n",
    "    <li><a href='#part3'>Part 3 Top</a>\n",
    "    <li><a href='#part3-2summary'>Part 3-2 Summary</a>\n",
    "    </li>"
   ]
  },
  {
   "cell_type": "code",
   "execution_count": null,
   "id": "ae58567d",
   "metadata": {},
   "outputs": [],
   "source": [
    "# Code with comments"
   ]
  },
  {
   "cell_type": "markdown",
   "id": "68294334",
   "metadata": {},
   "source": [
    "<a id='part3-2summary'></a>\n",
    "<h3><b><i>\n",
    "    Part 3-2 Summary\n",
    "</i></b></h3>\n",
    "    <li><a href='#part3-2'>Part 3-2 Top</a>\n",
    "\n",
    "STUFF"
   ]
  },
  {
   "cell_type": "markdown",
   "id": "5e1b65bd",
   "metadata": {},
   "source": [
    "<div style=\"border-bottom: 5px solid #000000;\"></div>"
   ]
  },
  {
   "cell_type": "markdown",
   "id": "03703e05",
   "metadata": {},
   "source": [
    "<a id='part3-3'></a>\n",
    "<h3 style='text-align:center'><b><i>\n",
    "    Part 3-3\n",
    "</i></b></h3>\n",
    "    <li><a href='#part3'>Part 3 Top</a>\n",
    "    <li><a href='#part3-3summary'>Part 3-3 Summary</a>\n",
    "    </li>"
   ]
  },
  {
   "cell_type": "code",
   "execution_count": null,
   "id": "1f0e3779",
   "metadata": {},
   "outputs": [],
   "source": [
    "# Code with comments"
   ]
  },
  {
   "cell_type": "markdown",
   "id": "07752be7",
   "metadata": {},
   "source": [
    "<a id='part3-3summary'></a>\n",
    "<h3><b><i>\n",
    "    Part 3-3 Summary\n",
    "</i></b></h3>\n",
    "    <li><a href='#part3-3'>Part 3-3 Top</a>\n",
    "\n",
    "STUFF"
   ]
  },
  {
   "cell_type": "markdown",
   "id": "7de449aa",
   "metadata": {},
   "source": [
    "<div style=\"border-bottom: 5px solid #000000;\"></div>"
   ]
  },
  {
   "cell_type": "markdown",
   "id": "4a0f3128",
   "metadata": {},
   "source": [
    "<a id='part3summary'></a>\n",
    "<h3 style='text-align:center'><b><i>\n",
    "    Part 3 Summary\n",
    "</i></b></h3>\n",
    "    <li><a href='#part3'>Part 3 Top</a>\n",
    "    </li>\n",
    "    \n",
    "STUFF"
   ]
  },
  {
   "cell_type": "markdown",
   "id": "dade32a9",
   "metadata": {},
   "source": [
    "<div style='background-color:lightblue'>\n",
    "<a id='misc'></a>\n",
    "    <b><u><i><h1 style='text-align:center ; padding-top:5px'>\n",
    "        Miscellaneous\n",
    "    </h1></i></u></b>\n",
    "    <li><a href='#TableOfContents'>Table of Contents Top</a>\n",
    "    </li>\n",
    "</div>"
   ]
  },
  {
   "cell_type": "code",
   "execution_count": null,
   "id": "e2bb5bd3",
   "metadata": {},
   "outputs": [],
   "source": []
  }
 ],
 "metadata": {
  "kernelspec": {
   "display_name": "Python 3 (ipykernel)",
   "language": "python",
   "name": "python3"
  },
  "language_info": {
   "codemirror_mode": {
    "name": "ipython",
    "version": 3
   },
   "file_extension": ".py",
   "mimetype": "text/x-python",
   "name": "python",
   "nbconvert_exporter": "python",
   "pygments_lexer": "ipython3",
   "version": "3.9.13"
  }
 },
 "nbformat": 4,
 "nbformat_minor": 5
}
