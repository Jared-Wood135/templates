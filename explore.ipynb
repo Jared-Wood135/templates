{
 "cells": [
  {
   "cell_type": "markdown",
   "id": "b18d5703",
   "metadata": {},
   "source": [
    "<div style='background-color:lightblue'>\n",
    "<a id='TableOfContents'></a>\n",
    "    <b><u><i><h1 style='text-align:center ; top-padding:5px'>\n",
    "        Table of Contents\n",
    "    </h1></i></u></b>\n",
    "    <li><a href='#imports'>Imports</a>\n",
    "    <li><a href='#part1'>Part 1</a>\n",
    "    <li><a href='#part2'>Part 2</a>\n",
    "    <li><a href='#part3'>Part 3</a>\n",
    "    <li><a href='#misc'>Miscellaneous</a>\n",
    "    </li>\n",
    "</div>"
   ]
  },
  {
   "cell_type": "markdown",
   "id": "c6f80688",
   "metadata": {},
   "source": [
    "<h3 style='text-align: center'><b><u><i>\n",
    "    ORIENTATION\n",
    "</i></u></b></h3>\n",
    "\n",
    "<h5 style='text-align: center'>\n",
    "This is a generic template in order to give an organized workplace for ease of use and navigability.\n",
    "</h5>"
   ]
  },
  {
   "cell_type": "markdown",
   "id": "08673bbb",
   "metadata": {},
   "source": [
    "<div style='background-color:lightblue'>\n",
    "<a id='imports'></a>\n",
    "    <b><u><i><h1 style='text-align:center ; padding-top:5px'>\n",
    "        Imports\n",
    "    </h1></i></u></b>\n",
    "    <li><a href='#TableOfContents'>Table of Contents</a>\n",
    "    </li>\n",
    "</div>"
   ]
  },
  {
   "cell_type": "code",
   "execution_count": 6,
   "id": "e810c5cd",
   "metadata": {},
   "outputs": [],
   "source": [
    "# Vectorization & Dataframe\n",
    "import numpy as np\n",
    "import pandas as pd\n",
    "\n",
    "# Visualizations\n",
    "import matplotlib as mpl\n",
    "import matplotlib.pyplot as plt\n",
    "import seaborn as sns\n",
    "\n",
    "# stats\n",
    "from scipy import stats\n",
    "\n",
    "# Glorious itertools\n",
    "import itertools\n",
    "\n",
    "# Ignore warnings\n",
    "import warnings\n",
    "warnings.filterwarnings('ignore')\n",
    "\n",
    "# .py files\n",
    "import wrangle as w"
   ]
  },
  {
   "cell_type": "code",
   "execution_count": 7,
   "id": "901fb53d",
   "metadata": {},
   "outputs": [],
   "source": [
    "# Set default matplotlib style to 'bmh'...\n",
    "mpl.style.use('bmh')"
   ]
  },
  {
   "cell_type": "markdown",
   "id": "e7239442",
   "metadata": {},
   "source": [
    "<div style='background-color:lightblue'>\n",
    "<a id='part1'></a>\n",
    "    <b><u><i><h1 style='text-align:center ; padding-top:5px'>\n",
    "        Part 1\n",
    "    </h1></i></u></b>\n",
    "    <li><a href='#TableOfContents'>Table of Contents Top</a>\n",
    "    <li><a href='#part1-1'>Part 1-1</a>\n",
    "    <li><a href='#part1-2'>Part 1-2</a>\n",
    "    <li><a href='#part1-3'>Part 1-3</a>\n",
    "    <li><a href='#part1summary'>Part 1 Summary</a>\n",
    "    </li>\n",
    "</div>"
   ]
  },
  {
   "cell_type": "markdown",
   "id": "cdc8cef0",
   "metadata": {},
   "source": [
    "<b><u><i><h3 style='text-align:center'>\n",
    "    ORIENTATION\n",
    "</h3></i></u></b>\n",
    "\n",
    "<h5 style='text-align: center'>\n",
    "Synopsis of what to expect in Part 1...\n",
    "</h5>"
   ]
  },
  {
   "cell_type": "markdown",
   "id": "8f8bf37e",
   "metadata": {},
   "source": [
    "<div style=\"border-bottom: 5px solid #000000;\"></div>"
   ]
  },
  {
   "cell_type": "markdown",
   "id": "022f6160",
   "metadata": {},
   "source": [
    "<a id='part1-1'></a>\n",
    "<h3 style='text-align:center'><b><i>\n",
    "    Part 1-1\n",
    "</i></b></h3>\n",
    "    <li><a href='#part1'>Part 1 Top</a>\n",
    "    <li><a href='#part1-1summary'>Part 1-1 Summary</a>\n",
    "    </li>"
   ]
  },
  {
   "cell_type": "code",
   "execution_count": null,
   "id": "b2c1caba",
   "metadata": {},
   "outputs": [],
   "source": []
  },
  {
   "cell_type": "markdown",
   "id": "d0b49816",
   "metadata": {},
   "source": [
    "<a id='part1-1summary'></a>\n",
    "<h3><b><i>\n",
    "    Part 1-1 Summary\n",
    "</i></b></h3>\n",
    "    <li><a href='#part1-1'>Part 1-1 Top</a>\n",
    "\n",
    "STUFF"
   ]
  },
  {
   "cell_type": "markdown",
   "id": "cc87e752",
   "metadata": {},
   "source": [
    "<div style=\"border-bottom: 5px solid #000000;\"></div>"
   ]
  },
  {
   "cell_type": "markdown",
   "id": "52c641df",
   "metadata": {},
   "source": [
    "<a id='part1-2'></a>\n",
    "<h3 style='text-align:center'><b><i>\n",
    "    Part 1-2\n",
    "</i></b></h3>\n",
    "    <li><a href='#part1'>Part 1 Top</a>\n",
    "    <li><a href='#part1-2summary'>Part 1-2 Summary</a>\n",
    "    </li>"
   ]
  },
  {
   "cell_type": "code",
   "execution_count": null,
   "id": "b32aa1b5",
   "metadata": {},
   "outputs": [],
   "source": []
  },
  {
   "cell_type": "markdown",
   "id": "8d034ec9",
   "metadata": {},
   "source": [
    "<a id='part1-2summary'></a>\n",
    "<h3><b><i>\n",
    "    Part 1-2 Summary\n",
    "</i></b></h3>\n",
    "    <li><a href='#part1-2'>Part 1-2 Top</a>\n",
    "\n",
    "STUFF"
   ]
  },
  {
   "cell_type": "markdown",
   "id": "14bb5a0d",
   "metadata": {},
   "source": [
    "<div style=\"border-bottom: 5px solid #000000;\"></div>"
   ]
  },
  {
   "cell_type": "markdown",
   "id": "14a80431",
   "metadata": {},
   "source": [
    "<a id='part1-3'></a>\n",
    "<h3 style='text-align:center'><b><i>\n",
    "    Part 1-3\n",
    "</i></b></h3>\n",
    "    <li><a href='#part1'>Part 1 Top</a>\n",
    "    <li><a href='#part1-3summary'>Part 1-3 Summary</a>\n",
    "    </li>"
   ]
  },
  {
   "cell_type": "code",
   "execution_count": null,
   "id": "7c41422e",
   "metadata": {},
   "outputs": [],
   "source": []
  },
  {
   "cell_type": "markdown",
   "id": "09de3ea1",
   "metadata": {},
   "source": [
    "<a id='part1-3summary'></a>\n",
    "<h3><b><i>\n",
    "    Part 1-3 Summary\n",
    "</i></b></h3>\n",
    "    <li><a href='#part1-3'>Part 1-3 Top</a>\n",
    "\n",
    "STUFF"
   ]
  },
  {
   "cell_type": "markdown",
   "id": "47959bc6",
   "metadata": {},
   "source": [
    "<div style=\"border-bottom: 5px solid #000000;\"></div>"
   ]
  },
  {
   "cell_type": "markdown",
   "id": "9fb42787",
   "metadata": {},
   "source": [
    "<a id='part1summary'></a>\n",
    "<h3 style='text-align:center'><b><i>\n",
    "    Part 1 Summary\n",
    "</i></b></h3>\n",
    "    <li><a href='#part1'>Part 1 Top</a>\n",
    "    </li>\n",
    "    \n",
    "STUFF"
   ]
  },
  {
   "cell_type": "markdown",
   "id": "00ae5640",
   "metadata": {},
   "source": [
    "<div style='background-color:lightblue'>\n",
    "<a id='part2'></a>\n",
    "    <b><u><i><h1 style='text-align:center ; padding-top:5px'>\n",
    "        Part 2\n",
    "    </h1></i></u></b>\n",
    "    <li><a href='#TableOfContents'>Table of Contents Top</a>\n",
    "    <li><a href='#part2-1'>Part 2-1</a>\n",
    "    <li><a href='#part2-2'>Part 2-2</a>\n",
    "    <li><a href='#part2-3'>Part 2-3</a>\n",
    "    <li><a href='#part2summary'>Part 2 Summary</a>\n",
    "    </li>\n",
    "</div>"
   ]
  },
  {
   "cell_type": "markdown",
   "id": "2455becd",
   "metadata": {},
   "source": [
    "<b><u><i><h3 style='text-align:center'>\n",
    "    ORIENTATION\n",
    "</h3></i></u></b>\n",
    "\n",
    "<h5 style='text-align: center'>\n",
    "Synopsis of what to expect in Part 2...\n",
    "</h5>"
   ]
  },
  {
   "cell_type": "markdown",
   "id": "a8ef1603",
   "metadata": {},
   "source": [
    "<div style=\"border-bottom: 5px solid #000000;\"></div>"
   ]
  },
  {
   "cell_type": "markdown",
   "id": "9a6fc717",
   "metadata": {},
   "source": [
    "<a id='part2-1'></a>\n",
    "<h3 style='text-align:center'><b><i>\n",
    "    Part 2-1\n",
    "</i></b></h3>\n",
    "    <li><a href='#part2'>Part 2 Top</a>\n",
    "    <li><a href='#part2-1summary'>Part 2-1 Summary</a>\n",
    "    </li>"
   ]
  },
  {
   "cell_type": "code",
   "execution_count": null,
   "id": "2a309f51",
   "metadata": {},
   "outputs": [],
   "source": []
  },
  {
   "cell_type": "markdown",
   "id": "7720b795",
   "metadata": {},
   "source": [
    "<a id='part2-1summary'></a>\n",
    "<h3><b><i>\n",
    "    Part 2-1 Summary\n",
    "</i></b></h3>\n",
    "    <li><a href='#part2-1'>Part 2-1 Top</a>\n",
    "\n",
    "STUFF"
   ]
  },
  {
   "cell_type": "markdown",
   "id": "c8a1815e",
   "metadata": {},
   "source": [
    "<div style=\"border-bottom: 5px solid #000000;\"></div>"
   ]
  },
  {
   "cell_type": "markdown",
   "id": "9fcce4d4",
   "metadata": {},
   "source": [
    "<a id='part2-2'></a>\n",
    "<h3 style='text-align:center'><b><i>\n",
    "    Part 2-2\n",
    "</i></b></h3>\n",
    "    <li><a href='#part2'>Part 2 Top</a>\n",
    "    <li><a href='#part2-2summary'>Part 2-2 Summary</a>\n",
    "    </li>"
   ]
  },
  {
   "cell_type": "code",
   "execution_count": null,
   "id": "4df5b185",
   "metadata": {},
   "outputs": [],
   "source": []
  },
  {
   "cell_type": "markdown",
   "id": "57b3d844",
   "metadata": {},
   "source": [
    "<a id='part2-2summary'></a>\n",
    "<h3><b><i>\n",
    "    Part 2-2 Summary\n",
    "</i></b></h3>\n",
    "    <li><a href='#part2-2'>Part 2-2 Top</a>\n",
    "\n",
    "STUFF"
   ]
  },
  {
   "cell_type": "markdown",
   "id": "9297dda4",
   "metadata": {},
   "source": [
    "<div style=\"border-bottom: 5px solid #000000;\"></div>"
   ]
  },
  {
   "cell_type": "markdown",
   "id": "f475baf6",
   "metadata": {},
   "source": [
    "<a id='part2-3'></a>\n",
    "<h3 style='text-align:center'><b><i>\n",
    "    Part 2-3\n",
    "</i></b></h3>\n",
    "    <li><a href='#part2'>Part 2 Top</a>\n",
    "    <li><a href='#part2-3summary'>Part 2-3 Summary</a>\n",
    "    </li>"
   ]
  },
  {
   "cell_type": "code",
   "execution_count": null,
   "id": "f24da5a8",
   "metadata": {},
   "outputs": [],
   "source": []
  },
  {
   "cell_type": "markdown",
   "id": "9b45f791",
   "metadata": {},
   "source": [
    "<a id='part2-3summary'></a>\n",
    "<h3><b><i>\n",
    "    Part 2-3 Summary\n",
    "</i></b></h3>\n",
    "    <li><a href='#part2-3'>Part 2-3 Top</a>\n",
    "\n",
    "STUFF"
   ]
  },
  {
   "cell_type": "markdown",
   "id": "c44ab052",
   "metadata": {},
   "source": [
    "<div style=\"border-bottom: 5px solid #000000;\"></div>"
   ]
  },
  {
   "cell_type": "markdown",
   "id": "93dcdf8c",
   "metadata": {},
   "source": [
    "<a id='part2summary'></a>\n",
    "<h3 style='text-align:center'><b><i>\n",
    "    Part 2 Summary\n",
    "</i></b></h3>\n",
    "    <li><a href='#part2'>Part 2 Top</a>\n",
    "    </li>\n",
    "    \n",
    "STUFF"
   ]
  },
  {
   "cell_type": "markdown",
   "id": "7636390a",
   "metadata": {},
   "source": [
    "<div style='background-color:lightblue'>\n",
    "<a id='part3'></a>\n",
    "    <b><u><i><h1 style='text-align:center ; padding-top:5px'>\n",
    "        Part 3\n",
    "    </h1></i></u></b>\n",
    "    <li><a href='#TableOfContents'>Table of Contents Top</a>\n",
    "    <li><a href='#part3-1'>Part 3-1</a>\n",
    "    <li><a href='#part3-2'>Part 3-2</a>\n",
    "    <li><a href='#part3-3'>Part 3-3</a>\n",
    "    <li><a href='#part3summary'>Part 3 Summary</a>\n",
    "    </li>\n",
    "</div>"
   ]
  },
  {
   "cell_type": "markdown",
   "id": "c9898d75",
   "metadata": {},
   "source": [
    "<b><u><i><h3 style='text-align:center'>\n",
    "    ORIENTATION\n",
    "</h3></i></u></b>\n",
    "\n",
    "<h5 style='text-align: center'>\n",
    "Synopsis of what to expect in Part 3...\n",
    "</h5>"
   ]
  },
  {
   "cell_type": "markdown",
   "id": "ec859878",
   "metadata": {},
   "source": [
    "<div style=\"border-bottom: 5px solid #000000;\"></div>"
   ]
  },
  {
   "cell_type": "markdown",
   "id": "4ee965f9",
   "metadata": {},
   "source": [
    "<a id='part3-1'></a>\n",
    "<h3 style='text-align:center'><b><i>\n",
    "    Part 3-1\n",
    "</i></b></h3>\n",
    "    <li><a href='#part3'>Part 3 Top</a>\n",
    "    <li><a href='#part3-1summary'>Part 3-1 Summary</a>\n",
    "    </li>"
   ]
  },
  {
   "cell_type": "code",
   "execution_count": null,
   "id": "e27ec1be",
   "metadata": {},
   "outputs": [],
   "source": []
  },
  {
   "cell_type": "markdown",
   "id": "1fe2951c",
   "metadata": {},
   "source": [
    "<a id='part3-1summary'></a>\n",
    "<h3><b><i>\n",
    "    Part 3-1 Summary\n",
    "</i></b></h3>\n",
    "    <li><a href='#part3-1'>Part 3-1 Top</a>\n",
    "\n",
    "STUFF"
   ]
  },
  {
   "cell_type": "markdown",
   "id": "0eed7a75",
   "metadata": {},
   "source": [
    "<div style=\"border-bottom: 5px solid #000000;\"></div>"
   ]
  },
  {
   "cell_type": "markdown",
   "id": "73260937",
   "metadata": {},
   "source": [
    "<a id='part3-2'></a>\n",
    "<h3 style='text-align:center'><b><i>\n",
    "    Part 3-2\n",
    "</i></b></h3>\n",
    "    <li><a href='#part3'>Part 3 Top</a>\n",
    "    <li><a href='#part3-2summary'>Part 3-2 Summary</a>\n",
    "    </li>"
   ]
  },
  {
   "cell_type": "code",
   "execution_count": null,
   "id": "cd0f98fd",
   "metadata": {},
   "outputs": [],
   "source": []
  },
  {
   "cell_type": "markdown",
   "id": "8ef82a6e",
   "metadata": {},
   "source": [
    "<a id='part3-2summary'></a>\n",
    "<h3><b><i>\n",
    "    Part 3-2 Summary\n",
    "</i></b></h3>\n",
    "    <li><a href='#part3-2'>Part 3-2 Top</a>\n",
    "\n",
    "STUFF"
   ]
  },
  {
   "cell_type": "markdown",
   "id": "747d4274",
   "metadata": {},
   "source": [
    "<div style=\"border-bottom: 5px solid #000000;\"></div>"
   ]
  },
  {
   "cell_type": "markdown",
   "id": "56687514",
   "metadata": {},
   "source": [
    "<a id='part3-3'></a>\n",
    "<h3 style='text-align:center'><b><i>\n",
    "    Part 3-3\n",
    "</i></b></h3>\n",
    "    <li><a href='#part3'>Part 3 Top</a>\n",
    "    <li><a href='#part3-3summary'>Part 3-3 Summary</a>\n",
    "    </li>"
   ]
  },
  {
   "cell_type": "code",
   "execution_count": null,
   "id": "abfb55aa",
   "metadata": {},
   "outputs": [],
   "source": []
  },
  {
   "cell_type": "markdown",
   "id": "769af208",
   "metadata": {},
   "source": [
    "<a id='part3-3summary'></a>\n",
    "<h3><b><i>\n",
    "    Part 3-3 Summary\n",
    "</i></b></h3>\n",
    "    <li><a href='#part3-3'>Part 3-3 Top</a>\n",
    "\n",
    "STUFF"
   ]
  },
  {
   "cell_type": "markdown",
   "id": "957f3780",
   "metadata": {},
   "source": [
    "<div style=\"border-bottom: 5px solid #000000;\"></div>"
   ]
  },
  {
   "cell_type": "markdown",
   "id": "e8eedac4",
   "metadata": {},
   "source": [
    "<a id='part3summary'></a>\n",
    "<h3 style='text-align:center'><b><i>\n",
    "    Part 3 Summary\n",
    "</i></b></h3>\n",
    "    <li><a href='#part3'>Part 3 Top</a>\n",
    "    </li>\n",
    "    \n",
    "STUFF"
   ]
  },
  {
   "cell_type": "markdown",
   "id": "dade32a9",
   "metadata": {},
   "source": [
    "<div style='background-color:lightblue'>\n",
    "<a id='misc'></a>\n",
    "    <b><u><i><h1 style='text-align:center ; padding-top:5px'>\n",
    "        Miscellaneous\n",
    "    </h1></i></u></b>\n",
    "    <li><a href='#TableOfContents'>Table of Contents Top</a>\n",
    "    </li>\n",
    "</div>"
   ]
  },
  {
   "cell_type": "code",
   "execution_count": null,
   "id": "e2bb5bd3",
   "metadata": {},
   "outputs": [],
   "source": []
  }
 ],
 "metadata": {
  "kernelspec": {
   "display_name": "Python 3 (ipykernel)",
   "language": "python",
   "name": "python3"
  },
  "language_info": {
   "codemirror_mode": {
    "name": "ipython",
    "version": 3
   },
   "file_extension": ".py",
   "mimetype": "text/x-python",
   "name": "python",
   "nbconvert_exporter": "python",
   "pygments_lexer": "ipython3",
   "version": "3.9.13"
  }
 },
 "nbformat": 4,
 "nbformat_minor": 5
}
