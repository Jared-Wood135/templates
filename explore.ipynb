{
 "cells": [
  {
   "cell_type": "markdown",
   "id": "b18d5703",
   "metadata": {},
   "source": [
    "<div style='background-color:lightblue'>\n",
    "<a id='TableOfContents'></a>\n",
    "    <b><u><i><h1 style='text-align:center ; top-padding:5px'>\n",
    "        Table of Contents\n",
    "    </h1></i></u></b>\n",
    "    <li><a href='#imports'>Imports</a>\n",
    "    <li><a href='#part1'>Part 1</a>\n",
    "    <li><a href='#part2'>Part 2</a>\n",
    "    <li><a href='#part3'>Part 3</a>\n",
    "    <li><a href='#misc'>Miscellaneous</a>\n",
    "    </li>\n",
    "</div>"
   ]
  },
  {
   "cell_type": "markdown",
   "id": "459502a5",
   "metadata": {},
   "source": [
    "<h3 style='text-align: center'><b><u><i>\n",
    "    ORIENTATION\n",
    "</i></u></b></h3>\n",
    "\n",
    "<h5 style='text-align: center'>\n",
    "This is a generic template in order to give an organized workplace for ease of use and navigability.\n",
    "</h5>"
   ]
  },
  {
   "cell_type": "markdown",
   "id": "08673bbb",
   "metadata": {},
   "source": [
    "<div style='background-color:lightblue'>\n",
    "<a id='imports'></a>\n",
    "    <b><u><i><h1 style='text-align:center ; padding-top:5px'>\n",
    "        Imports\n",
    "    </h1></i></u></b>\n",
    "    <li><a href='#TableOfContents'>Table of Contents</a>\n",
    "    </li>\n",
    "</div>"
   ]
  },
  {
   "cell_type": "code",
   "execution_count": 6,
   "id": "e810c5cd",
   "metadata": {},
   "outputs": [],
   "source": [
    "# Vectorization & Dataframe\n",
    "import numpy as np\n",
    "import pandas as pd\n",
    "\n",
    "# Visualizations\n",
    "import matplotlib as mpl\n",
    "import matplotlib.pyplot as plt\n",
    "import seaborn as sns\n",
    "\n",
    "# stats\n",
    "from scipy import stats\n",
    "\n",
    "# Glorious itertools\n",
    "import itertools\n",
    "\n",
    "# Ignore warnings\n",
    "import warnings\n",
    "warnings.filterwarnings('ignore')\n",
    "\n",
    "# .py files\n",
    "import wrangle as w"
   ]
  },
  {
   "cell_type": "code",
   "execution_count": 7,
   "id": "b759d173",
   "metadata": {},
   "outputs": [],
   "source": [
    "# Set default matplotlib style to 'bmh'...\n",
    "mpl.style.use('bmh')"
   ]
  },
  {
   "cell_type": "markdown",
   "id": "e7239442",
   "metadata": {},
   "source": [
    "<div style='background-color:lightblue'>\n",
    "<a id='part1'></a>\n",
    "    <b><u><i><h1 style='text-align:center ; padding-top:5px'>\n",
    "        Part 1\n",
    "    </h1></i></u></b>\n",
    "    <li><a href='#TableOfContents'>Table of Contents Top</a>\n",
    "    <li><a href='#part1-1'>Part 1-1</a>\n",
    "    <li><a href='#part1-2'>Part 1-2</a>\n",
    "    <li><a href='#part1-3'>Part 1-3</a>\n",
    "    <li><a href='#part1summary'>Part 1 Summary</a>\n",
    "    </li>\n",
    "</div>"
   ]
  },
  {
   "cell_type": "markdown",
   "id": "71cc68f8",
   "metadata": {},
   "source": [
    "<b><u><i><h3 style='text-align:center'>\n",
    "    ORIENTATION\n",
    "</h3></i></u></b>\n",
    "\n",
    "<h5 style='text-align: center'>\n",
    "Synopsis of what to expect in Part 1...\n",
    "</h5>"
   ]
  },
  {
   "cell_type": "markdown",
   "id": "5ed1f05c",
   "metadata": {},
   "source": [
    "<div style=\"border-bottom: 5px solid #000000;\"></div>"
   ]
  },
  {
   "cell_type": "markdown",
   "id": "76c38653",
   "metadata": {},
   "source": [
    "<a id='part1-1'></a>\n",
    "<h3 style='text-align:center'><b><i>\n",
    "    Part 1-1\n",
    "</i></b></h3>\n",
    "    <li><a href='#part1'>Part 1 Top</a>\n",
    "    <li><a href='#part1-1summary'>Part 1-1 Summary</a>\n",
    "    </li>"
   ]
  },
  {
   "cell_type": "code",
   "execution_count": null,
   "id": "3c71a7db",
   "metadata": {},
   "outputs": [],
   "source": []
  },
  {
   "cell_type": "markdown",
   "id": "cf8b5ed8",
   "metadata": {},
   "source": [
    "<a id='part1-1summary'></a>\n",
    "<h3><b><i>\n",
    "    Part 1-1 Summary\n",
    "</i></b></h3>\n",
    "    <li><a href='#part1-1'>Part 1-1 Top</a>\n",
    "\n",
    "STUFF"
   ]
  },
  {
   "cell_type": "markdown",
   "id": "3d1e5618",
   "metadata": {},
   "source": [
    "<div style=\"border-bottom: 5px solid #000000;\"></div>"
   ]
  },
  {
   "cell_type": "markdown",
   "id": "3afe9a61",
   "metadata": {},
   "source": [
    "<a id='part1-2'></a>\n",
    "<h3 style='text-align:center'><b><i>\n",
    "    Part 1-2\n",
    "</i></b></h3>\n",
    "    <li><a href='#part1'>Part 1 Top</a>\n",
    "    <li><a href='#part1-2summary'>Part 1-2 Summary</a>\n",
    "    </li>"
   ]
  },
  {
   "cell_type": "code",
   "execution_count": null,
   "id": "63a8f359",
   "metadata": {},
   "outputs": [],
   "source": []
  },
  {
   "cell_type": "markdown",
   "id": "d99236fa",
   "metadata": {},
   "source": [
    "<a id='part1-2summary'></a>\n",
    "<h3><b><i>\n",
    "    Part 1-2 Summary\n",
    "</i></b></h3>\n",
    "    <li><a href='#part1-2'>Part 1-2 Top</a>\n",
    "\n",
    "STUFF"
   ]
  },
  {
   "cell_type": "markdown",
   "id": "5b53c4ca",
   "metadata": {},
   "source": [
    "<div style=\"border-bottom: 5px solid #000000;\"></div>"
   ]
  },
  {
   "cell_type": "markdown",
   "id": "da9858e3",
   "metadata": {},
   "source": [
    "<a id='part1-3'></a>\n",
    "<h3 style='text-align:center'><b><i>\n",
    "    Part 1-3\n",
    "</i></b></h3>\n",
    "    <li><a href='#part1'>Part 1 Top</a>\n",
    "    <li><a href='#part1-3summary'>Part 1-3 Summary</a>\n",
    "    </li>"
   ]
  },
  {
   "cell_type": "code",
   "execution_count": null,
   "id": "ce2d0abb",
   "metadata": {},
   "outputs": [],
   "source": []
  },
  {
   "cell_type": "markdown",
   "id": "125e7d6f",
   "metadata": {},
   "source": [
    "<a id='part1-3summary'></a>\n",
    "<h3><b><i>\n",
    "    Part 1-3 Summary\n",
    "</i></b></h3>\n",
    "    <li><a href='#part1-3'>Part 1-3 Top</a>\n",
    "\n",
    "STUFF"
   ]
  },
  {
   "cell_type": "markdown",
   "id": "e8e512cb",
   "metadata": {},
   "source": [
    "<div style=\"border-bottom: 5px solid #000000;\"></div>"
   ]
  },
  {
   "cell_type": "markdown",
   "id": "5b22c856",
   "metadata": {},
   "source": [
    "<a id='part1summary'></a>\n",
    "<h3 style='text-align:center'><b><i>\n",
    "    Part 1 Summary\n",
    "</i></b></h3>\n",
    "    <li><a href='#part1'>Part 1 Top</a>\n",
    "    </li>\n",
    "    \n",
    "STUFF"
   ]
  },
  {
   "cell_type": "markdown",
   "id": "5bbff2ed",
   "metadata": {},
   "source": [
    "<div style='background-color:lightblue'>\n",
    "<a id='part2'></a>\n",
    "    <b><u><i><h1 style='text-align:center ; padding-top:5px'>\n",
    "        Part 2\n",
    "    </h1></i></u></b>\n",
    "    <li><a href='#TableOfContents'>Table of Contents Top</a>\n",
    "    <li><a href='#part2-1'>Part 2-1</a>\n",
    "    <li><a href='#part2-2'>Part 2-2</a>\n",
    "    <li><a href='#part2-3'>Part 2-3</a>\n",
    "    <li><a href='#part2summary'>Part 2 Summary</a>\n",
    "    </li>\n",
    "</div>"
   ]
  },
  {
   "cell_type": "markdown",
   "id": "d2ae218d",
   "metadata": {},
   "source": [
    "<b><u><i><h3 style='text-align:center'>\n",
    "    ORIENTATION\n",
    "</h3></i></u></b>\n",
    "\n",
    "<h5 style='text-align: center'>\n",
    "Synopsis of what to expect in Part 2...\n",
    "</h5>"
   ]
  },
  {
   "cell_type": "markdown",
   "id": "ae1dd814",
   "metadata": {},
   "source": [
    "<div style=\"border-bottom: 5px solid #000000;\"></div>"
   ]
  },
  {
   "cell_type": "markdown",
   "id": "0972051a",
   "metadata": {},
   "source": [
    "<a id='part2-1'></a>\n",
    "<h3 style='text-align:center'><b><i>\n",
    "    Part 2-1\n",
    "</i></b></h3>\n",
    "    <li><a href='#part2'>Part 2 Top</a>\n",
    "    <li><a href='#part2-1summary'>Part 2-1 Summary</a>\n",
    "    </li>"
   ]
  },
  {
   "cell_type": "code",
   "execution_count": null,
   "id": "93ba1cae",
   "metadata": {},
   "outputs": [],
   "source": []
  },
  {
   "cell_type": "markdown",
   "id": "eb7e76ba",
   "metadata": {},
   "source": [
    "<a id='part2-1summary'></a>\n",
    "<h3><b><i>\n",
    "    Part 2-1 Summary\n",
    "</i></b></h3>\n",
    "    <li><a href='#part2-1'>Part 2-1 Top</a>\n",
    "\n",
    "STUFF"
   ]
  },
  {
   "cell_type": "markdown",
   "id": "e892238b",
   "metadata": {},
   "source": [
    "<div style=\"border-bottom: 5px solid #000000;\"></div>"
   ]
  },
  {
   "cell_type": "markdown",
   "id": "d5d914cd",
   "metadata": {},
   "source": [
    "<a id='part2-2'></a>\n",
    "<h3 style='text-align:center'><b><i>\n",
    "    Part 2-2\n",
    "</i></b></h3>\n",
    "    <li><a href='#part2'>Part 2 Top</a>\n",
    "    <li><a href='#part2-2summary'>Part 2-2 Summary</a>\n",
    "    </li>"
   ]
  },
  {
   "cell_type": "code",
   "execution_count": null,
   "id": "f4788ebe",
   "metadata": {},
   "outputs": [],
   "source": []
  },
  {
   "cell_type": "markdown",
   "id": "ee1824f5",
   "metadata": {},
   "source": [
    "<a id='part2-2summary'></a>\n",
    "<h3><b><i>\n",
    "    Part 2-2 Summary\n",
    "</i></b></h3>\n",
    "    <li><a href='#part2-2'>Part 2-2 Top</a>\n",
    "\n",
    "STUFF"
   ]
  },
  {
   "cell_type": "markdown",
   "id": "d889158b",
   "metadata": {},
   "source": [
    "<div style=\"border-bottom: 5px solid #000000;\"></div>"
   ]
  },
  {
   "cell_type": "markdown",
   "id": "eced61fa",
   "metadata": {},
   "source": [
    "<a id='part2-3'></a>\n",
    "<h3 style='text-align:center'><b><i>\n",
    "    Part 2-3\n",
    "</i></b></h3>\n",
    "    <li><a href='#part2'>Part 2 Top</a>\n",
    "    <li><a href='#part2-3summary'>Part 2-3 Summary</a>\n",
    "    </li>"
   ]
  },
  {
   "cell_type": "code",
   "execution_count": null,
   "id": "5277c2d9",
   "metadata": {},
   "outputs": [],
   "source": []
  },
  {
   "cell_type": "markdown",
   "id": "6912a72f",
   "metadata": {},
   "source": [
    "<a id='part2-3summary'></a>\n",
    "<h3><b><i>\n",
    "    Part 2-3 Summary\n",
    "</i></b></h3>\n",
    "    <li><a href='#part2-3'>Part 2-3 Top</a>\n",
    "\n",
    "STUFF"
   ]
  },
  {
   "cell_type": "markdown",
   "id": "eaf25176",
   "metadata": {},
   "source": [
    "<div style=\"border-bottom: 5px solid #000000;\"></div>"
   ]
  },
  {
   "cell_type": "markdown",
   "id": "ad4e491b",
   "metadata": {},
   "source": [
    "<a id='part2summary'></a>\n",
    "<h3 style='text-align:center'><b><i>\n",
    "    Part 2 Summary\n",
    "</i></b></h3>\n",
    "    <li><a href='#part2'>Part 2 Top</a>\n",
    "    </li>\n",
    "    \n",
    "STUFF"
   ]
  },
  {
   "cell_type": "markdown",
   "id": "2656ee07",
   "metadata": {},
   "source": [
    "<div style='background-color:lightblue'>\n",
    "<a id='part3'></a>\n",
    "    <b><u><i><h1 style='text-align:center ; padding-top:5px'>\n",
    "        Part 3\n",
    "    </h1></i></u></b>\n",
    "    <li><a href='#TableOfContents'>Table of Contents Top</a>\n",
    "    <li><a href='#part3-1'>Part 3-1</a>\n",
    "    <li><a href='#part3-2'>Part 3-2</a>\n",
    "    <li><a href='#part3-3'>Part 3-3</a>\n",
    "    <li><a href='#part3summary'>Part 3 Summary</a>\n",
    "    </li>\n",
    "</div>"
   ]
  },
  {
   "cell_type": "markdown",
   "id": "e4d7ad26",
   "metadata": {},
   "source": [
    "<b><u><i><h3 style='text-align:center'>\n",
    "    ORIENTATION\n",
    "</h3></i></u></b>\n",
    "\n",
    "<h5 style='text-align: center'>\n",
    "Synopsis of what to expect in Part 3...\n",
    "</h5>"
   ]
  },
  {
   "cell_type": "markdown",
   "id": "0859a6db",
   "metadata": {},
   "source": [
    "<div style=\"border-bottom: 5px solid #000000;\"></div>"
   ]
  },
  {
   "cell_type": "markdown",
   "id": "c82735bf",
   "metadata": {},
   "source": [
    "<a id='part3-1'></a>\n",
    "<h3 style='text-align:center'><b><i>\n",
    "    Part 3-1\n",
    "</i></b></h3>\n",
    "    <li><a href='#part3'>Part 3 Top</a>\n",
    "    <li><a href='#part3-1summary'>Part 3-1 Summary</a>\n",
    "    </li>"
   ]
  },
  {
   "cell_type": "code",
   "execution_count": null,
   "id": "24bafe39",
   "metadata": {},
   "outputs": [],
   "source": []
  },
  {
   "cell_type": "markdown",
   "id": "f1355c95",
   "metadata": {},
   "source": [
    "<a id='part3-1summary'></a>\n",
    "<h3><b><i>\n",
    "    Part 3-1 Summary\n",
    "</i></b></h3>\n",
    "    <li><a href='#part3-1'>Part 3-1 Top</a>\n",
    "\n",
    "STUFF"
   ]
  },
  {
   "cell_type": "markdown",
   "id": "be149452",
   "metadata": {},
   "source": [
    "<div style=\"border-bottom: 5px solid #000000;\"></div>"
   ]
  },
  {
   "cell_type": "markdown",
   "id": "16e75fd3",
   "metadata": {},
   "source": [
    "<a id='part3-2'></a>\n",
    "<h3 style='text-align:center'><b><i>\n",
    "    Part 3-2\n",
    "</i></b></h3>\n",
    "    <li><a href='#part3'>Part 3 Top</a>\n",
    "    <li><a href='#part3-2summary'>Part 3-2 Summary</a>\n",
    "    </li>"
   ]
  },
  {
   "cell_type": "code",
   "execution_count": null,
   "id": "f0d90df7",
   "metadata": {},
   "outputs": [],
   "source": []
  },
  {
   "cell_type": "markdown",
   "id": "8ebfa77d",
   "metadata": {},
   "source": [
    "<a id='part3-2summary'></a>\n",
    "<h3><b><i>\n",
    "    Part 3-2 Summary\n",
    "</i></b></h3>\n",
    "    <li><a href='#part3-2'>Part 3-2 Top</a>\n",
    "\n",
    "STUFF"
   ]
  },
  {
   "cell_type": "markdown",
   "id": "d993aff0",
   "metadata": {},
   "source": [
    "<div style=\"border-bottom: 5px solid #000000;\"></div>"
   ]
  },
  {
   "cell_type": "markdown",
   "id": "28750c7f",
   "metadata": {},
   "source": [
    "<a id='part3-3'></a>\n",
    "<h3 style='text-align:center'><b><i>\n",
    "    Part 3-3\n",
    "</i></b></h3>\n",
    "    <li><a href='#part3'>Part 3 Top</a>\n",
    "    <li><a href='#part3-3summary'>Part 3-3 Summary</a>\n",
    "    </li>"
   ]
  },
  {
   "cell_type": "code",
   "execution_count": null,
   "id": "f0969ab4",
   "metadata": {},
   "outputs": [],
   "source": []
  },
  {
   "cell_type": "markdown",
   "id": "f8cda84f",
   "metadata": {},
   "source": [
    "<a id='part3-3summary'></a>\n",
    "<h3><b><i>\n",
    "    Part 3-3 Summary\n",
    "</i></b></h3>\n",
    "    <li><a href='#part3-3'>Part 3-3 Top</a>\n",
    "\n",
    "STUFF"
   ]
  },
  {
   "cell_type": "markdown",
   "id": "dfdab7c1",
   "metadata": {},
   "source": [
    "<div style=\"border-bottom: 5px solid #000000;\"></div>"
   ]
  },
  {
   "cell_type": "markdown",
   "id": "91fd817a",
   "metadata": {},
   "source": [
    "<a id='part3summary'></a>\n",
    "<h3 style='text-align:center'><b><i>\n",
    "    Part 3 Summary\n",
    "</i></b></h3>\n",
    "    <li><a href='#part3'>Part 3 Top</a>\n",
    "    </li>\n",
    "    \n",
    "STUFF"
   ]
  },
  {
   "cell_type": "markdown",
   "id": "dade32a9",
   "metadata": {},
   "source": [
    "<div style='background-color:lightblue'>\n",
    "<a id='misc'></a>\n",
    "    <b><u><i><h1 style='text-align:center ; padding-top:5px'>\n",
    "        Miscellaneous\n",
    "    </h1></i></u></b>\n",
    "    <li><a href='#TableOfContents'>Table of Contents Top</a>\n",
    "    </li>\n",
    "</div>"
   ]
  },
  {
   "cell_type": "code",
   "execution_count": null,
   "id": "e2bb5bd3",
   "metadata": {},
   "outputs": [],
   "source": []
  }
 ],
 "metadata": {
  "kernelspec": {
   "display_name": "Python 3 (ipykernel)",
   "language": "python",
   "name": "python3"
  },
  "language_info": {
   "codemirror_mode": {
    "name": "ipython",
    "version": 3
   },
   "file_extension": ".py",
   "mimetype": "text/x-python",
   "name": "python",
   "nbconvert_exporter": "python",
   "pygments_lexer": "ipython3",
   "version": "3.9.13"
  }
 },
 "nbformat": 4,
 "nbformat_minor": 5
}
