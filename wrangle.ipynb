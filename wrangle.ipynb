{
 "cells": [
  {
   "cell_type": "markdown",
   "id": "067c6c6b",
   "metadata": {},
   "source": [
    "<div style='background-color:lightblue'>\n",
    "<a id=\"TableOfContents\"></a>\n",
    "    <h1 style='text-align:center ; top-padding:5px'>\n",
    "        <b><i>\n",
    "            TABLE OF CONTENTS:\n",
    "        </i></b></h1>\n",
    "    <li><a href='#imports'>Imports</a>\n",
    "    <li><a href=\"#acquire\">Acquire</a>\n",
    "    <li><a href='#prepare'>Prepare</a>\n",
    "    <li><a href=\"#wrangle\">Wrangle</a>\n",
    "    <li><a href='#misc'>Miscellaneous</a>\n",
    "    </li>\n",
    "</div>"
   ]
  },
  {
   "cell_type": "markdown",
   "id": "ff12ef4d",
   "metadata": {},
   "source": [
    "<h3 style='text-align: center'><b><u><i>\n",
    "    ORIENTATION\n",
    "</i></u></b></h3>\n",
    "\n",
    "<h5 style='text-align: center'>\n",
    "This is a generic template in order to give an organized workplace for ease of use and navigability.\n",
    "</h5>"
   ]
  },
  {
   "cell_type": "markdown",
   "id": "793b55d6",
   "metadata": {},
   "source": [
    "<div style='background-color:lightblue'>\n",
    "<a id=\"imports\"></a>\n",
    "    <h1 style='text-align:center ; top-padding:5px'>\n",
    "        <b><i>\n",
    "            Imports\n",
    "        </i></b></h1>\n",
    "    <li><a href='#TableOfContents'>Table of Contents Top</a>\n",
    "    </li>\n",
    "</div>"
   ]
  },
  {
   "cell_type": "code",
   "execution_count": 1,
   "id": "beb5f3e4",
   "metadata": {},
   "outputs": [],
   "source": [
    "# Vectorization and Dataframing\n",
    "import numpy as np\n",
    "import pandas as pd\n",
    "\n",
    "# Ignore warnings\n",
    "import warnings\n",
    "warnings.filterwarnings('ignore')\n",
    "\n",
    "# .py files\n",
    "import wrangle as w"
   ]
  },
  {
   "cell_type": "markdown",
   "id": "84cd970a",
   "metadata": {},
   "source": [
    "<div style='background-color:lightblue'>\n",
    "<a id=\"acquire\"></a>\n",
    "    <h1 style='text-align:center ; top-padding:5px'>\n",
    "        <b><i>\n",
    "            Acquire\n",
    "        </i></b></h1>\n",
    "    <li><a href='#TableOfContents'>Table of Contents Top</a>\n",
    "    </li>\n",
    "</div>"
   ]
  },
  {
   "cell_type": "markdown",
   "id": "9dbe69c7",
   "metadata": {},
   "source": [
    "Acquire everything from the vanilla [DATABASE NAME] database via [METHODOLOGY]\n",
    "\n",
    "- [DATABASE NAME] Vanilla Shape:\n",
    "    - Rows: \n",
    "    - Columns: "
   ]
  },
  {
   "cell_type": "code",
   "execution_count": null,
   "id": "d0df65b5",
   "metadata": {},
   "outputs": [],
   "source": []
  },
  {
   "cell_type": "markdown",
   "id": "3fc72510",
   "metadata": {},
   "source": [
    "<div style='background-color:lightblue'>\n",
    "<a id=\"prepare\"></a>\n",
    "    <h1 style='text-align:center ; top-padding:5px'>\n",
    "        <b><i>\n",
    "            Prepare\n",
    "        </i></b></h1>\n",
    "    <li><a href='#TableOfContents'>Table of Contents Top</a>\n",
    "    <li><a href='#preparedrop'>Drop Data</a>\n",
    "    <li><a href='#preparenull'>Null Handling</a>\n",
    "    <li><a href='#preparedtypes'>Dtype Cleaning</a>\n",
    "    <li><a href='#prepareaggregate'>Aggregate Column Creation</a>\n",
    "    <li><a href='#preparetext'>Text Modifications</a>\n",
    "    <li><a href='#preparetarget'>Target Column Creation</a>\n",
    "    <li><a href='#preparesummary'>Summary of Preparation</a>\n",
    "    </li>\n",
    "</div>"
   ]
  },
  {
   "cell_type": "markdown",
   "id": "11143f50",
   "metadata": {},
   "source": [
    "<a id='preparedrop'></a>\n",
    "<h3 style='text-align:center'><b><i>\n",
    "    Drop Data\n",
    "</i></b></h3>\n",
    "    <li><a href='#prepare'>Prepare Top</a>\n",
    "    <li><a href='#preparedropsummary'>Drop Data Summary</a>\n",
    "    </li>"
   ]
  },
  {
   "cell_type": "code",
   "execution_count": null,
   "id": "2a1ff397",
   "metadata": {},
   "outputs": [],
   "source": []
  },
  {
   "cell_type": "markdown",
   "id": "9ad09f24",
   "metadata": {},
   "source": [
    "<a id='preparedropsummary'></a>\n",
    "<h3><b><i>\n",
    "    Drop Data Summary\n",
    "</i></b></h3>\n",
    "    <li><a href='#preparedrop'>Drop Data Top</a>\n",
    "\n",
    "STUFF"
   ]
  },
  {
   "cell_type": "markdown",
   "id": "76056065",
   "metadata": {},
   "source": [
    "<div style='border-bottom:5px solid #000000'></div>"
   ]
  },
  {
   "cell_type": "markdown",
   "id": "5d71ee36",
   "metadata": {},
   "source": [
    "<a id='preparenull'></a>\n",
    "<h3 style='text-align:center'><b><i>\n",
    "    Null Handling\n",
    "</i></b></h3>\n",
    "    <li><a href='#prepare'>Prepare Top</a>\n",
    "    <li><a href='#preparenullsummary'>Null Handling Summary</a>\n",
    "    </li>"
   ]
  },
  {
   "cell_type": "code",
   "execution_count": null,
   "id": "8a75d609",
   "metadata": {},
   "outputs": [],
   "source": []
  },
  {
   "cell_type": "markdown",
   "id": "d82bc8b6",
   "metadata": {},
   "source": [
    "<a id='preparenullsummary'></a>\n",
    "<h3><b><i>\n",
    "    Null Handling Summary\n",
    "</i></b></h3>\n",
    "    <li><a href='#preparenull'>Null Handling Top</a>\n",
    "\n",
    "STUFF"
   ]
  },
  {
   "cell_type": "markdown",
   "id": "cae1197b",
   "metadata": {},
   "source": [
    "<div style='border-bottom:5px solid #000000'></div>"
   ]
  },
  {
   "cell_type": "markdown",
   "id": "03cd3336",
   "metadata": {},
   "source": [
    "<a id='preparedtypes'></a>\n",
    "<h3 style='text-align:center'><b><i>\n",
    "    Dtype Cleaning\n",
    "</i></b></h3>\n",
    "    <li><a href='#prepare'>Prepare Top</a>\n",
    "    <li><a href='#preparedtypessummary'>Dtype Cleaning Summary</a>\n",
    "    </li>"
   ]
  },
  {
   "cell_type": "code",
   "execution_count": null,
   "id": "e40a66da",
   "metadata": {},
   "outputs": [],
   "source": []
  },
  {
   "cell_type": "markdown",
   "id": "8e50a8e8",
   "metadata": {},
   "source": [
    "<a id='preparedtypessummary'></a>\n",
    "<h3><b><i>\n",
    "    Dtype Cleaning Summary\n",
    "</i></b></h3>\n",
    "    <li><a href='#preparedtypes'>Dtype Cleaning Top</a>\n",
    "\n",
    "STUFF"
   ]
  },
  {
   "cell_type": "markdown",
   "id": "92977dc1",
   "metadata": {},
   "source": [
    "<div style='border-bottom:5px solid #000000'></div>"
   ]
  },
  {
   "cell_type": "markdown",
   "id": "f2acc521",
   "metadata": {},
   "source": [
    "<a id='prepareaggregate'></a>\n",
    "<h3 style='text-align:center'><b><i>\n",
    "    Aggregate Column Creation\n",
    "</i></b></h3>\n",
    "    <li><a href='#prepare'>Prepare Top</a>\n",
    "    <li><a href='#prepareaggregatesummary'>Aggregate Column Creation Summary</a>\n",
    "    </li>"
   ]
  },
  {
   "cell_type": "code",
   "execution_count": null,
   "id": "8f943f7d",
   "metadata": {},
   "outputs": [],
   "source": []
  },
  {
   "cell_type": "markdown",
   "id": "6ecf3164",
   "metadata": {},
   "source": [
    "<a id='prepareaggregatesummary'></a>\n",
    "<h3><b><i>\n",
    "    Aggregate Column Creation Summary\n",
    "</i></b></h3>\n",
    "    <li><a href='#prepareaggregate'>Aggregate Column Creation Top</a>\n",
    "\n",
    "STUFF"
   ]
  },
  {
   "cell_type": "markdown",
   "id": "9940a600",
   "metadata": {},
   "source": [
    "<div style='border-bottom:5px solid #000000'></div>"
   ]
  },
  {
   "cell_type": "markdown",
   "id": "a181832a",
   "metadata": {},
   "source": [
    "<a id='preparetext'></a>\n",
    "<h3 style='text-align:center'><b><i>\n",
    "    Text Modifications\n",
    "</i></b></h3>\n",
    "    <li><a href='#prepare'>Prepare Top</a>\n",
    "    <li><a href='#preparetextsummary'>Text Modifications Summary</a>\n",
    "    </li>"
   ]
  },
  {
   "cell_type": "code",
   "execution_count": null,
   "id": "6e2a9c8f",
   "metadata": {},
   "outputs": [],
   "source": []
  },
  {
   "cell_type": "markdown",
   "id": "564b649b",
   "metadata": {},
   "source": [
    "<a id='preparetextsummary'></a>\n",
    "<h3><b><i>\n",
    "    Text Modifications Summary\n",
    "</i></b></h3>\n",
    "    <li><a href='#preparetext'>Text Modifications Top</a>\n",
    "\n",
    "STUFF"
   ]
  },
  {
   "cell_type": "markdown",
   "id": "5b91275e",
   "metadata": {},
   "source": [
    "<div style='border-bottom:5px solid #000000'></div>"
   ]
  },
  {
   "cell_type": "markdown",
   "id": "b0165a8a",
   "metadata": {},
   "source": [
    "<a id='preparetarget'></a>\n",
    "<h3 style='text-align:center'><b><i>\n",
    "    Target Column Creation\n",
    "</i></b></h3>\n",
    "    <li><a href='#prepare'>Prepare Top</a>\n",
    "    <li><a href='#preparetargetsummary'>Target Column Creation Summary</a>\n",
    "    </li>"
   ]
  },
  {
   "cell_type": "code",
   "execution_count": null,
   "id": "867c2ac6",
   "metadata": {},
   "outputs": [],
   "source": []
  },
  {
   "cell_type": "markdown",
   "id": "a5c2785a",
   "metadata": {},
   "source": [
    "<a id='preparetargetsummary'></a>\n",
    "<h3><b><i>\n",
    "    Target Column Creation Summary\n",
    "</i></b></h3>\n",
    "    <li><a href='#preparetarget'>Target Column Creation Top</a>\n",
    "\n",
    "STUFF"
   ]
  },
  {
   "cell_type": "markdown",
   "id": "3edb5655",
   "metadata": {},
   "source": [
    "<div style='border-bottom:5px solid #000000'></div>"
   ]
  },
  {
   "cell_type": "markdown",
   "id": "d5ef337b",
   "metadata": {},
   "source": [
    "<a id='preparesummary'></a>\n",
    "<h3 style='text-align:center'><b><i>\n",
    "    Summary of Preparation\n",
    "</i></b></h3>\n",
    "    <li><a href='#prepare'>Prepare Top</a>\n",
    "    </li>\n",
    "    \n",
    "STUFF"
   ]
  },
  {
   "cell_type": "markdown",
   "id": "56c707c4",
   "metadata": {},
   "source": [
    "<div style='background-color:lightblue'>\n",
    "<a id=\"wrangle\"></a>\n",
    "    <h1 style='text-align:center ; top-padding:5px'>\n",
    "        <b><i>\n",
    "            Wrangle\n",
    "        </i></b></h1>\n",
    "    <li><a href='#TableOfContents'>Table of Contents Top</a>\n",
    "    </li>\n",
    "</div>"
   ]
  },
  {
   "cell_type": "code",
   "execution_count": null,
   "id": "2de9bf76",
   "metadata": {},
   "outputs": [],
   "source": [
    "# Using the wrangle function from 'wrangle.py'\n",
    "# Ensure that the data matches the prepared data\n"
   ]
  },
  {
   "cell_type": "markdown",
   "id": "df3853ba",
   "metadata": {},
   "source": [
    "<div style='background-color:lightblue'>\n",
    "<a id=\"misc\"></a>\n",
    "    <h1 style='text-align:center ; top-padding:5px'>\n",
    "        <b><i>\n",
    "            Miscellaneous\n",
    "        </i></b></h1>\n",
    "    <li><a href='#TableOfContents'>Table of Contents Top</a>\n",
    "    </li>\n",
    "</div>"
   ]
  },
  {
   "cell_type": "code",
   "execution_count": null,
   "id": "4368ea77",
   "metadata": {},
   "outputs": [],
   "source": []
  }
 ],
 "metadata": {
  "kernelspec": {
   "display_name": "Python 3 (ipykernel)",
   "language": "python",
   "name": "python3"
  },
  "language_info": {
   "codemirror_mode": {
    "name": "ipython",
    "version": 3
   },
   "file_extension": ".py",
   "mimetype": "text/x-python",
   "name": "python",
   "nbconvert_exporter": "python",
   "pygments_lexer": "ipython3",
   "version": "3.9.13"
  }
 },
 "nbformat": 4,
 "nbformat_minor": 5
}
