{
 "cells": [
  {
   "cell_type": "markdown",
   "id": "9f6ea5bf",
   "metadata": {},
   "source": [
    "<a id='tableofcontents'></a>\n",
    "<div style='background-color:lightblue ; top-padding:5px ; bottom-padding:5px'>\n",
    "    <h1 style='text-align:center'><b><i>\n",
    "        Table of Contents\n",
    "    </i></b></h1>\n",
    "    <li><a href='#general'>General Imports</a>\n",
    "    <li><a href='#classification'>Classification Machine Learning Imports</a>\n",
    "    <li><a href='#regression'>Regression Machine Learning Imports</a>\n",
    "    <li><a href='#clustering'>Clustering Imports</a>\n",
    "    <li><a href='#timeseries'>Time-Series Imports</a>\n",
    "    <li><a href='#nlp'>NLP (Natural Language Processing) Imports</a>\n",
    "    <li><a href='#spark'>Spark Imports</a>\n",
    "    <li><a href='#misc'>Miscellaneous Imports</a>\n",
    "    </li>\n",
    "</div>"
   ]
  },
  {
   "cell_type": "markdown",
   "id": "fb098bfb",
   "metadata": {},
   "source": [
    "<h3 style='text-align:center'><b><i>\n",
    "    Orientation\n",
    "</i></b></h3>\n",
    "\n",
    "This file is to help provide a list of imports that are useful and most commonly used for each specific category in order to prevent forgetting what imports are for what as well as ensuring that you are utilizing useful imports should you forget them.\n",
    "\n",
    "This isn't a final document and will be expounded upon over time, depending on how things look, I may incorporate a brief description and example of each import;otherwise, this document will purely just be a list of imports\n",
    "\n",
    "Hope this helps!!!"
   ]
  },
  {
   "cell_type": "markdown",
   "id": "65dc9b19",
   "metadata": {},
   "source": [
    "<a id='general'></a>\n",
    "<div style='background-color:lightblue ; top-padding:5px ; bottom-padding:5px'>\n",
    "    <h1 style='text-align:center'><b><i>\n",
    "        General Imports\n",
    "    </i></b></h1>\n",
    "    <li><a href='#tableofcontents'>Table of Contents</a>\n",
    "    </li>\n",
    "</div>"
   ]
  },
  {
   "cell_type": "markdown",
   "id": "37d55b53",
   "metadata": {},
   "source": [
    "- **numpy as np**\n",
    "    - Vectorization\n",
    "- **pandas**\n",
    "    - Dataframing\n",
    "- **from scipy.stats import stats**\n",
    "    - Statistical tests\n",
    "        - Pearsonsr\n",
    "        - Spearman\n",
    "        - Chi2\n",
    "- **from sklearn.metrics import**\n",
    "    - accuracy_score\n",
    "    - recall_score\n",
    "    - classification_report\n",
    "    - confusion_matrix\n",
    "- **from sklearn.model_selection import train_test_split**\n",
    "- **matplotlib.pyplot as plt**\n",
    "    - Visualizations\n",
    "- **seaborn as sns**\n",
    "    - Extension of plt visuals"
   ]
  },
  {
   "cell_type": "markdown",
   "id": "3278dbad",
   "metadata": {},
   "source": [
    "<a id='classification'></a>\n",
    "<div style='background-color:lightblue ; top-padding:5px ; bottom-padding:5px'>\n",
    "    <h1 style='text-align:center'><b><i>\n",
    "        Classification Machine Learning Imports\n",
    "    </i></b></h1>\n",
    "    <li><a href='#tableofcontents'>Table of Contents</a>\n",
    "    </li>\n",
    "</div>"
   ]
  },
  {
   "cell_type": "markdown",
   "id": "6332b08a",
   "metadata": {},
   "source": [
    "- **from sklearn.tree**\n",
    "    - DecisionTreeClassifier()\n",
    "- **from sklearn.ensemble**\n",
    "    - RandomForestClassifier()\n",
    "- **from sklearn.neighbors**\n",
    "    - KNeighborsClassifier\n",
    "- **from sklearn.linear_model**\n",
    "    - LogisticRegression()"
   ]
  },
  {
   "cell_type": "markdown",
   "id": "1c2c47ff",
   "metadata": {},
   "source": [
    "<a id='regression'></a>\n",
    "<div style='background-color:lightblue ; top-padding:5px ; bottom-padding:5px'>\n",
    "    <h1 style='text-align:center'><b><i>\n",
    "        Regression Machine Learning Imports\n",
    "    </i></b></h1>\n",
    "    <li><a href='#tableofcontents'>Table of Contents</a>\n",
    "    </li>\n",
    "</div>"
   ]
  },
  {
   "cell_type": "markdown",
   "id": "114bb436",
   "metadata": {},
   "source": [
    "- **from sklearn.preprocessing import**\n",
    "    - MinMaxScaler\n",
    "    - StandardScaler\n",
    "    - RobustScaler\n",
    "    - QuantileTransformer\n",
    "- **from sklearn.linear_model import**\n",
    "    - LinearRegression()\n",
    "    - LassoLars\n",
    "    - TweedieRegressor\n",
    "    - PolynomialFeatures\n",
    "- **from sklearn.metrics import**\n",
    "    - explained_variance_score\n",
    "    - mean_squared_error"
   ]
  },
  {
   "cell_type": "markdown",
   "id": "1780a1f3",
   "metadata": {},
   "source": [
    "<a id='clustering'></a>\n",
    "<div style='background-color:lightblue ; top-padding:5px ; bottom-padding:5px'>\n",
    "    <h1 style='text-align:center'><b><i>\n",
    "        Clustering Imports\n",
    "    </i></b></h1>\n",
    "    <li><a href='#tableofcontents'>Table of Contents</a>\n",
    "    </li>\n",
    "</div>"
   ]
  },
  {
   "cell_type": "markdown",
   "id": "d83ce564",
   "metadata": {},
   "source": [
    "- **from sklearn.preprocessing import**\n",
    "    - MinMaxScaler\n",
    "    - StandardScaler\n",
    "    - RobustScaler\n",
    "    - QuantileTransformer\n",
    "- **from sklearn.cluster import**\n",
    "    - KMeans"
   ]
  },
  {
   "cell_type": "markdown",
   "id": "e75a9e5e",
   "metadata": {},
   "source": [
    "<a id='timeseries'></a>\n",
    "<div style='background-color:lightblue ; top-padding:5px ; bottom-padding:5px'>\n",
    "    <h1 style='text-align:center'><b><i>\n",
    "        Time-Series Imports\n",
    "    </i></b></h1>\n",
    "    <li><a href='#tableofcontents'>Table of Contents</a>\n",
    "    </li>\n",
    "</div>"
   ]
  },
  {
   "cell_type": "markdown",
   "id": "614c79ce",
   "metadata": {},
   "source": [
    "- **from statsmodels.tsa.api import**\n",
    "    - Holt"
   ]
  },
  {
   "cell_type": "markdown",
   "id": "ff106c6c",
   "metadata": {},
   "source": [
    "<a id='nlp'></a>\n",
    "<div style='background-color:lightblue ; top-padding:5px ; bottom-padding:5px'>\n",
    "    <h1 style='text-align:center'><b><i>\n",
    "        NLP (Natural Language Processing) Imports\n",
    "    </i></b></h1>\n",
    "    <li><a href='#tableofcontents'>Table of Contents</a>\n",
    "    </li>\n",
    "</div>"
   ]
  },
  {
   "cell_type": "markdown",
   "id": "12cedf75",
   "metadata": {},
   "source": [
    "- **import re**\n",
    "- **import unicodedata**\n",
    "- **import nltk**\n",
    "- **from wordcloud import WordCloud**"
   ]
  },
  {
   "cell_type": "markdown",
   "id": "e9b1fc0c",
   "metadata": {},
   "source": [
    "<a id='spark'></a>\n",
    "<div style='background-color:lightblue ; top-padding:5px ; bottom-padding:5px'>\n",
    "    <h1 style='text-align:center'><b><i>\n",
    "        Spark Imports\n",
    "    </i></b></h1>\n",
    "    <li><a href='#tableofcontents'>Table of Contents</a>\n",
    "    </li>\n",
    "</div>"
   ]
  },
  {
   "cell_type": "code",
   "execution_count": null,
   "id": "72ed546f",
   "metadata": {},
   "outputs": [],
   "source": []
  },
  {
   "cell_type": "markdown",
   "id": "50cb386f",
   "metadata": {},
   "source": [
    "<a id='misc'></a>\n",
    "<div style='background-color:lightblue ; top-padding:5px ; bottom-padding:5px'>\n",
    "    <h1 style='text-align:center'><b><i>\n",
    "        Miscellaneous Imports\n",
    "    </i></b></h1>\n",
    "    <li><a href='#tableofcontents'>Table of Contents</a>\n",
    "    </li>\n",
    "</div>"
   ]
  },
  {
   "cell_type": "code",
   "execution_count": null,
   "id": "8509b12e",
   "metadata": {},
   "outputs": [],
   "source": []
  }
 ],
 "metadata": {
  "kernelspec": {
   "display_name": "Python 3 (ipykernel)",
   "language": "python",
   "name": "python3"
  },
  "language_info": {
   "codemirror_mode": {
    "name": "ipython",
    "version": 3
   },
   "file_extension": ".py",
   "mimetype": "text/x-python",
   "name": "python",
   "nbconvert_exporter": "python",
   "pygments_lexer": "ipython3",
   "version": "3.9.13"
  }
 },
 "nbformat": 4,
 "nbformat_minor": 5
}
