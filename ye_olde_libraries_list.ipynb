{
 "cells": [
  {
   "cell_type": "markdown",
   "id": "f6550709",
   "metadata": {},
   "source": [
    "<a id='tableofcontents'></a>\n",
    "<div style='background-color:orange ; top-padding:5px ; bottom-padding:5px'>\n",
    "    <h1 style='text-align:center'><b><i>\n",
    "        Table of Contents\n",
    "    </i></b></h1>\n",
    "    <li><a href='#general'>General Imports</a>\n",
    "    <li><a href='#classification'>Classification Machine Learning Imports</a>\n",
    "    <li><a href='#regression'>Regression Machine Learning Imports</a>\n",
    "    <li><a href='#clustering'>Clustering Imports</a>\n",
    "    <li><a href='#timeseries'>Time-Series Imports</a>\n",
    "    <li><a href='#nlp'>NLP (Natural Language Processing) Imports</a>\n",
    "    <li><a href='#spark'>Spark Imports</a>\n",
    "    <li><a href='#misc'>Miscellaneous Imports</a>\n",
    "    </li>\n",
    "</div>"
   ]
  },
  {
   "cell_type": "markdown",
   "id": "42351de3",
   "metadata": {},
   "source": [
    "<h3><b>\n",
    "    Orientation\n",
    "</b></h3>\n",
    "\n",
    "This file is to help provide a list of imports that are useful and most commonly used for each specific category in order to prevent forgetting what imports are for what as well as ensuring that you are utilizing useful imports should you forget them.\n",
    "\n",
    "This isn't a final document and will be expounded upon over time, depending on how things look, I may incorporate a brief description and example of each import;otherwise, this document will purely just be a list of imports\n",
    "\n",
    "Hope this helps!!!"
   ]
  },
  {
   "cell_type": "markdown",
   "id": "42769507",
   "metadata": {},
   "source": [
    "<a id='general'></a>\n",
    "<div style='background-color:orange ; top-padding:5px ; bottom-padding:5px'>\n",
    "    <h1 style='text-align:center'><b><i>\n",
    "        General Imports\n",
    "    </i></b></h1>\n",
    "    <li><a href='#tableofcontents'>Table of Contents</a>\n",
    "    </li>\n",
    "</div>"
   ]
  },
  {
   "cell_type": "markdown",
   "id": "d3d3aa41",
   "metadata": {},
   "source": [
    "- **numpy as np**\n",
    "    - Vectorization\n",
    "- **pandas**\n",
    "    "
   ]
  },
  {
   "cell_type": "code",
   "execution_count": null,
   "id": "b3dbfab9",
   "metadata": {},
   "outputs": [],
   "source": []
  },
  {
   "cell_type": "markdown",
   "id": "6dd3e331",
   "metadata": {},
   "source": [
    "<a id='classification'></a>\n",
    "<div style='background-color:orange ; top-padding:5px ; bottom-padding:5px'>\n",
    "    <h1 style='text-align:center'><b><i>\n",
    "        Classification Machine Learning Imports\n",
    "    </i></b></h1>\n",
    "    <li><a href='#tableofcontents'>Table of Contents</a>\n",
    "    </li>\n",
    "</div>"
   ]
  },
  {
   "cell_type": "code",
   "execution_count": null,
   "id": "c218149d",
   "metadata": {},
   "outputs": [],
   "source": []
  },
  {
   "cell_type": "markdown",
   "id": "d6ffc3ac",
   "metadata": {},
   "source": [
    "<a id='regression'></a>\n",
    "<div style='background-color:orange ; top-padding:5px ; bottom-padding:5px'>\n",
    "    <h1 style='text-align:center'><b><i>\n",
    "        Regression Machine Learning Imports\n",
    "    </i></b></h1>\n",
    "    <li><a href='#tableofcontents'>Table of Contents</a>\n",
    "    </li>\n",
    "</div>"
   ]
  },
  {
   "cell_type": "code",
   "execution_count": null,
   "id": "16adae4d",
   "metadata": {},
   "outputs": [],
   "source": []
  },
  {
   "cell_type": "markdown",
   "id": "700a8ddd",
   "metadata": {},
   "source": [
    "<a id='clustering'></a>\n",
    "<div style='background-color:orange ; top-padding:5px ; bottom-padding:5px'>\n",
    "    <h1 style='text-align:center'><b><i>\n",
    "        Clustering Imports\n",
    "    </i></b></h1>\n",
    "    <li><a href='#tableofcontents'>Table of Contents</a>\n",
    "    </li>\n",
    "</div>"
   ]
  },
  {
   "cell_type": "code",
   "execution_count": null,
   "id": "89d5914e",
   "metadata": {},
   "outputs": [],
   "source": []
  },
  {
   "cell_type": "markdown",
   "id": "0d00c890",
   "metadata": {},
   "source": [
    "<a id='timeseries'></a>\n",
    "<div style='background-color:orange ; top-padding:5px ; bottom-padding:5px'>\n",
    "    <h1 style='text-align:center'><b><i>\n",
    "        Time-Series Imports\n",
    "    </i></b></h1>\n",
    "    <li><a href='#tableofcontents'>Table of Contents</a>\n",
    "    </li>\n",
    "</div>"
   ]
  },
  {
   "cell_type": "code",
   "execution_count": null,
   "id": "a3f9b0ca",
   "metadata": {},
   "outputs": [],
   "source": []
  },
  {
   "cell_type": "markdown",
   "id": "a774b576",
   "metadata": {},
   "source": [
    "<a id='nlp'></a>\n",
    "<div style='background-color:orange ; top-padding:5px ; bottom-padding:5px'>\n",
    "    <h1 style='text-align:center'><b><i>\n",
    "        NLP (Natural Language Processing) Imports\n",
    "    </i></b></h1>\n",
    "    <li><a href='#tableofcontents'>Table of Contents</a>\n",
    "    </li>\n",
    "</div>"
   ]
  },
  {
   "cell_type": "code",
   "execution_count": null,
   "id": "0e22b240",
   "metadata": {},
   "outputs": [],
   "source": []
  },
  {
   "cell_type": "markdown",
   "id": "8c162786",
   "metadata": {},
   "source": [
    "<a id='spark'></a>\n",
    "<div style='background-color:orange ; top-padding:5px ; bottom-padding:5px'>\n",
    "    <h1 style='text-align:center'><b><i>\n",
    "        Spark Imports\n",
    "    </i></b></h1>\n",
    "    <li><a href='#tableofcontents'>Table of Contents</a>\n",
    "    </li>\n",
    "</div>"
   ]
  },
  {
   "cell_type": "code",
   "execution_count": null,
   "id": "a22dd9bf",
   "metadata": {},
   "outputs": [],
   "source": []
  },
  {
   "cell_type": "markdown",
   "id": "834e304f",
   "metadata": {},
   "source": [
    "<a id='misc'></a>\n",
    "<div style='background-color:orange ; top-padding:5px ; bottom-padding:5px'>\n",
    "    <h1 style='text-align:center'><b><i>\n",
    "        Miscellaneous Imports\n",
    "    </i></b></h1>\n",
    "    <li><a href='#tableofcontents'>Table of Contents</a>\n",
    "    </li>\n",
    "</div>"
   ]
  },
  {
   "cell_type": "code",
   "execution_count": null,
   "id": "82a88458",
   "metadata": {},
   "outputs": [],
   "source": []
  }
 ],
 "metadata": {
  "kernelspec": {
   "display_name": "Python 3 (ipykernel)",
   "language": "python",
   "name": "python3"
  },
  "language_info": {
   "codemirror_mode": {
    "name": "ipython",
    "version": 3
   },
   "file_extension": ".py",
   "mimetype": "text/x-python",
   "name": "python",
   "nbconvert_exporter": "python",
   "pygments_lexer": "ipython3",
   "version": "3.9.13"
  }
 },
 "nbformat": 4,
 "nbformat_minor": 5
}
